{
  "cells": [
    {
      "cell_type": "markdown",
      "metadata": {
        "id": "kVIU0QJFBU-A"
      },
      "source": [
        "Для начала импортируем необходимые библиотеки:"
      ]
    },
    {
      "cell_type": "code",
      "execution_count": 1,
      "metadata": {
        "id": "Biq3jX8TBPJd"
      },
      "outputs": [],
      "source": [
        "import numpy as np #для матричных вычислений\n",
        "import pandas as pd #для анализа и предобработки данных\n",
        "import matplotlib.pyplot as plt #для визуализации\n",
        "import seaborn as sns #для визуализации\n",
        "\n",
        "from sklearn import metrics #метрики\n",
        "from sklearn import model_selection #методы разделения и валидации\n",
        "from sklearn import ensemble #ансамбли\n",
        "\n",
        "plt.style.use('seaborn-v0_8') #стиль отрисовки seaborn\n",
        "%matplotlib inline"
      ]
    },
    {
      "cell_type": "code",
      "execution_count": 2,
      "metadata": {},
      "outputs": [],
      "source": [
        "SEED = 42"
      ]
    },
    {
      "cell_type": "markdown",
      "metadata": {},
      "source": [
        "[Информация](https://www.kaggle.com/datasets/imakash3011/online-shoppers-purchasing-intention-dataset) о данных"
      ]
    },
    {
      "cell_type": "markdown",
      "metadata": {
        "id": "PJil2ChtBaB-"
      },
      "source": [
        "1. Прочитайте таблицу с данными ('data/online_shoppers_intention.csv') и выведите ее на экран, чтобы убедиться, что чтение прошло успешно."
      ]
    },
    {
      "cell_type": "code",
      "execution_count": 3,
      "metadata": {},
      "outputs": [
        {
          "data": {
            "text/html": [
              "<div>\n",
              "<style scoped>\n",
              "    .dataframe tbody tr th:only-of-type {\n",
              "        vertical-align: middle;\n",
              "    }\n",
              "\n",
              "    .dataframe tbody tr th {\n",
              "        vertical-align: top;\n",
              "    }\n",
              "\n",
              "    .dataframe thead th {\n",
              "        text-align: right;\n",
              "    }\n",
              "</style>\n",
              "<table border=\"1\" class=\"dataframe\">\n",
              "  <thead>\n",
              "    <tr style=\"text-align: right;\">\n",
              "      <th></th>\n",
              "      <th>Administrative</th>\n",
              "      <th>Administrative_Duration</th>\n",
              "      <th>Informational</th>\n",
              "      <th>Informational_Duration</th>\n",
              "      <th>ProductRelated</th>\n",
              "      <th>ProductRelated_Duration</th>\n",
              "      <th>BounceRates</th>\n",
              "      <th>ExitRates</th>\n",
              "      <th>PageValues</th>\n",
              "      <th>SpecialDay</th>\n",
              "      <th>Month</th>\n",
              "      <th>OperatingSystems</th>\n",
              "      <th>Browser</th>\n",
              "      <th>Region</th>\n",
              "      <th>TrafficType</th>\n",
              "      <th>VisitorType</th>\n",
              "      <th>Weekend</th>\n",
              "      <th>Revenue</th>\n",
              "    </tr>\n",
              "  </thead>\n",
              "  <tbody>\n",
              "    <tr>\n",
              "      <th>0</th>\n",
              "      <td>0</td>\n",
              "      <td>0.0</td>\n",
              "      <td>0</td>\n",
              "      <td>0.0</td>\n",
              "      <td>1</td>\n",
              "      <td>0.000000</td>\n",
              "      <td>0.20</td>\n",
              "      <td>0.20</td>\n",
              "      <td>0.0</td>\n",
              "      <td>0.0</td>\n",
              "      <td>Feb</td>\n",
              "      <td>1</td>\n",
              "      <td>1</td>\n",
              "      <td>1</td>\n",
              "      <td>1</td>\n",
              "      <td>Returning_Visitor</td>\n",
              "      <td>False</td>\n",
              "      <td>False</td>\n",
              "    </tr>\n",
              "    <tr>\n",
              "      <th>1</th>\n",
              "      <td>0</td>\n",
              "      <td>0.0</td>\n",
              "      <td>0</td>\n",
              "      <td>0.0</td>\n",
              "      <td>2</td>\n",
              "      <td>64.000000</td>\n",
              "      <td>0.00</td>\n",
              "      <td>0.10</td>\n",
              "      <td>0.0</td>\n",
              "      <td>0.0</td>\n",
              "      <td>Feb</td>\n",
              "      <td>2</td>\n",
              "      <td>2</td>\n",
              "      <td>1</td>\n",
              "      <td>2</td>\n",
              "      <td>Returning_Visitor</td>\n",
              "      <td>False</td>\n",
              "      <td>False</td>\n",
              "    </tr>\n",
              "    <tr>\n",
              "      <th>2</th>\n",
              "      <td>0</td>\n",
              "      <td>0.0</td>\n",
              "      <td>0</td>\n",
              "      <td>0.0</td>\n",
              "      <td>1</td>\n",
              "      <td>0.000000</td>\n",
              "      <td>0.20</td>\n",
              "      <td>0.20</td>\n",
              "      <td>0.0</td>\n",
              "      <td>0.0</td>\n",
              "      <td>Feb</td>\n",
              "      <td>4</td>\n",
              "      <td>1</td>\n",
              "      <td>9</td>\n",
              "      <td>3</td>\n",
              "      <td>Returning_Visitor</td>\n",
              "      <td>False</td>\n",
              "      <td>False</td>\n",
              "    </tr>\n",
              "    <tr>\n",
              "      <th>3</th>\n",
              "      <td>0</td>\n",
              "      <td>0.0</td>\n",
              "      <td>0</td>\n",
              "      <td>0.0</td>\n",
              "      <td>2</td>\n",
              "      <td>2.666667</td>\n",
              "      <td>0.05</td>\n",
              "      <td>0.14</td>\n",
              "      <td>0.0</td>\n",
              "      <td>0.0</td>\n",
              "      <td>Feb</td>\n",
              "      <td>3</td>\n",
              "      <td>2</td>\n",
              "      <td>2</td>\n",
              "      <td>4</td>\n",
              "      <td>Returning_Visitor</td>\n",
              "      <td>False</td>\n",
              "      <td>False</td>\n",
              "    </tr>\n",
              "    <tr>\n",
              "      <th>4</th>\n",
              "      <td>0</td>\n",
              "      <td>0.0</td>\n",
              "      <td>0</td>\n",
              "      <td>0.0</td>\n",
              "      <td>10</td>\n",
              "      <td>627.500000</td>\n",
              "      <td>0.02</td>\n",
              "      <td>0.05</td>\n",
              "      <td>0.0</td>\n",
              "      <td>0.0</td>\n",
              "      <td>Feb</td>\n",
              "      <td>3</td>\n",
              "      <td>3</td>\n",
              "      <td>1</td>\n",
              "      <td>4</td>\n",
              "      <td>Returning_Visitor</td>\n",
              "      <td>True</td>\n",
              "      <td>False</td>\n",
              "    </tr>\n",
              "  </tbody>\n",
              "</table>\n",
              "</div>"
            ],
            "text/plain": [
              "   Administrative  Administrative_Duration  Informational  \\\n",
              "0               0                      0.0              0   \n",
              "1               0                      0.0              0   \n",
              "2               0                      0.0              0   \n",
              "3               0                      0.0              0   \n",
              "4               0                      0.0              0   \n",
              "\n",
              "   Informational_Duration  ProductRelated  ProductRelated_Duration  \\\n",
              "0                     0.0               1                 0.000000   \n",
              "1                     0.0               2                64.000000   \n",
              "2                     0.0               1                 0.000000   \n",
              "3                     0.0               2                 2.666667   \n",
              "4                     0.0              10               627.500000   \n",
              "\n",
              "   BounceRates  ExitRates  PageValues  SpecialDay Month  OperatingSystems  \\\n",
              "0         0.20       0.20         0.0         0.0   Feb                 1   \n",
              "1         0.00       0.10         0.0         0.0   Feb                 2   \n",
              "2         0.20       0.20         0.0         0.0   Feb                 4   \n",
              "3         0.05       0.14         0.0         0.0   Feb                 3   \n",
              "4         0.02       0.05         0.0         0.0   Feb                 3   \n",
              "\n",
              "   Browser  Region  TrafficType        VisitorType  Weekend  Revenue  \n",
              "0        1       1            1  Returning_Visitor    False    False  \n",
              "1        2       1            2  Returning_Visitor    False    False  \n",
              "2        1       9            3  Returning_Visitor    False    False  \n",
              "3        2       2            4  Returning_Visitor    False    False  \n",
              "4        3       1            4  Returning_Visitor     True    False  "
            ]
          },
          "execution_count": 3,
          "metadata": {},
          "output_type": "execute_result"
        }
      ],
      "source": [
        "data = pd.read_csv('sources/online_shoppers_intention.csv')\n",
        "data.head()"
      ]
    },
    {
      "cell_type": "markdown",
      "metadata": {
        "id": "6C8aQuZkBkx4"
      },
      "source": [
        "2. Выведите размер таблицы"
      ]
    },
    {
      "cell_type": "code",
      "execution_count": 4,
      "metadata": {
        "id": "tOih4yDSBowL"
      },
      "outputs": [
        {
          "name": "stdout",
          "output_type": "stream",
          "text": [
            "Shape of data: (12330, 18)\n"
          ]
        }
      ],
      "source": [
        "print(f'Shape of data: {data.shape}')"
      ]
    },
    {
      "cell_type": "markdown",
      "metadata": {
        "id": "Q9rZOkA9Bqcm"
      },
      "source": [
        "3. В нашей таблице содержится информация о более чем 12 тысячах сессий на сайте интернет-магазина. Каждая сессия описывается 18 признаками.\n",
        "Удостоверьтесь в отсутствии пропусков:"
      ]
    },
    {
      "cell_type": "code",
      "execution_count": 5,
      "metadata": {
        "id": "NDl705itBwmz"
      },
      "outputs": [
        {
          "name": "stdout",
          "output_type": "stream",
          "text": [
            "<class 'pandas.core.frame.DataFrame'>\n",
            "RangeIndex: 12330 entries, 0 to 12329\n",
            "Data columns (total 18 columns):\n",
            " #   Column                   Non-Null Count  Dtype  \n",
            "---  ------                   --------------  -----  \n",
            " 0   Administrative           12330 non-null  int64  \n",
            " 1   Administrative_Duration  12330 non-null  float64\n",
            " 2   Informational            12330 non-null  int64  \n",
            " 3   Informational_Duration   12330 non-null  float64\n",
            " 4   ProductRelated           12330 non-null  int64  \n",
            " 5   ProductRelated_Duration  12330 non-null  float64\n",
            " 6   BounceRates              12330 non-null  float64\n",
            " 7   ExitRates                12330 non-null  float64\n",
            " 8   PageValues               12330 non-null  float64\n",
            " 9   SpecialDay               12330 non-null  float64\n",
            " 10  Month                    12330 non-null  object \n",
            " 11  OperatingSystems         12330 non-null  int64  \n",
            " 12  Browser                  12330 non-null  int64  \n",
            " 13  Region                   12330 non-null  int64  \n",
            " 14  TrafficType              12330 non-null  int64  \n",
            " 15  VisitorType              12330 non-null  object \n",
            " 16  Weekend                  12330 non-null  bool   \n",
            " 17  Revenue                  12330 non-null  bool   \n",
            "dtypes: bool(2), float64(7), int64(7), object(2)\n",
            "memory usage: 1.5+ MB\n"
          ]
        }
      ],
      "source": [
        "# There are non-null the data in all of the features\n",
        "\n",
        "data.info()"
      ]
    },
    {
      "cell_type": "code",
      "execution_count": 6,
      "metadata": {},
      "outputs": [
        {
          "data": {
            "text/plain": [
              "Administrative             0\n",
              "Administrative_Duration    0\n",
              "Informational              0\n",
              "Informational_Duration     0\n",
              "ProductRelated             0\n",
              "ProductRelated_Duration    0\n",
              "BounceRates                0\n",
              "ExitRates                  0\n",
              "PageValues                 0\n",
              "SpecialDay                 0\n",
              "Month                      0\n",
              "OperatingSystems           0\n",
              "Browser                    0\n",
              "Region                     0\n",
              "TrafficType                0\n",
              "VisitorType                0\n",
              "Weekend                    0\n",
              "Revenue                    0\n",
              "dtype: int64"
            ]
          },
          "execution_count": 6,
          "metadata": {},
          "output_type": "execute_result"
        }
      ],
      "source": [
        "# There are non-null the data in all of the features\n",
        "\n",
        "data.isna().sum()"
      ]
    },
    {
      "cell_type": "markdown",
      "metadata": {
        "id": "LtKKChnRB8x1"
      },
      "source": [
        "4. Закодируйте категориальные признаки с помощью простого горячего кодирования, используя уже знакомую нам функцию get_dummies():"
      ]
    },
    {
      "cell_type": "code",
      "execution_count": 7,
      "metadata": {
        "id": "jvoWy_9GB2xe"
      },
      "outputs": [
        {
          "data": {
            "text/html": [
              "<div>\n",
              "<style scoped>\n",
              "    .dataframe tbody tr th:only-of-type {\n",
              "        vertical-align: middle;\n",
              "    }\n",
              "\n",
              "    .dataframe tbody tr th {\n",
              "        vertical-align: top;\n",
              "    }\n",
              "\n",
              "    .dataframe thead th {\n",
              "        text-align: right;\n",
              "    }\n",
              "</style>\n",
              "<table border=\"1\" class=\"dataframe\">\n",
              "  <thead>\n",
              "    <tr style=\"text-align: right;\">\n",
              "      <th></th>\n",
              "      <th>Month</th>\n",
              "      <th>VisitorType</th>\n",
              "    </tr>\n",
              "  </thead>\n",
              "  <tbody>\n",
              "    <tr>\n",
              "      <th>count</th>\n",
              "      <td>12330</td>\n",
              "      <td>12330</td>\n",
              "    </tr>\n",
              "    <tr>\n",
              "      <th>unique</th>\n",
              "      <td>10</td>\n",
              "      <td>3</td>\n",
              "    </tr>\n",
              "    <tr>\n",
              "      <th>top</th>\n",
              "      <td>May</td>\n",
              "      <td>Returning_Visitor</td>\n",
              "    </tr>\n",
              "    <tr>\n",
              "      <th>freq</th>\n",
              "      <td>3364</td>\n",
              "      <td>10551</td>\n",
              "    </tr>\n",
              "  </tbody>\n",
              "</table>\n",
              "</div>"
            ],
            "text/plain": [
              "        Month        VisitorType\n",
              "count   12330              12330\n",
              "unique     10                  3\n",
              "top       May  Returning_Visitor\n",
              "freq     3364              10551"
            ]
          },
          "execution_count": 7,
          "metadata": {},
          "output_type": "execute_result"
        }
      ],
      "source": [
        "# Let's analyze objects\n",
        "\n",
        "data.describe(include='object')"
      ]
    },
    {
      "cell_type": "code",
      "execution_count": 8,
      "metadata": {},
      "outputs": [
        {
          "name": "stdout",
          "output_type": "stream",
          "text": [
            "Shape of data: (12330, 27)\n"
          ]
        },
        {
          "data": {
            "text/html": [
              "<div>\n",
              "<style scoped>\n",
              "    .dataframe tbody tr th:only-of-type {\n",
              "        vertical-align: middle;\n",
              "    }\n",
              "\n",
              "    .dataframe tbody tr th {\n",
              "        vertical-align: top;\n",
              "    }\n",
              "\n",
              "    .dataframe thead th {\n",
              "        text-align: right;\n",
              "    }\n",
              "</style>\n",
              "<table border=\"1\" class=\"dataframe\">\n",
              "  <thead>\n",
              "    <tr style=\"text-align: right;\">\n",
              "      <th></th>\n",
              "      <th>Administrative</th>\n",
              "      <th>Administrative_Duration</th>\n",
              "      <th>Informational</th>\n",
              "      <th>Informational_Duration</th>\n",
              "      <th>ProductRelated</th>\n",
              "      <th>ProductRelated_Duration</th>\n",
              "      <th>BounceRates</th>\n",
              "      <th>ExitRates</th>\n",
              "      <th>PageValues</th>\n",
              "      <th>SpecialDay</th>\n",
              "      <th>...</th>\n",
              "      <th>Month_Feb</th>\n",
              "      <th>Month_Jul</th>\n",
              "      <th>Month_June</th>\n",
              "      <th>Month_Mar</th>\n",
              "      <th>Month_May</th>\n",
              "      <th>Month_Nov</th>\n",
              "      <th>Month_Oct</th>\n",
              "      <th>Month_Sep</th>\n",
              "      <th>VisitorType_Other</th>\n",
              "      <th>VisitorType_Returning_Visitor</th>\n",
              "    </tr>\n",
              "  </thead>\n",
              "  <tbody>\n",
              "    <tr>\n",
              "      <th>12325</th>\n",
              "      <td>3</td>\n",
              "      <td>145.0</td>\n",
              "      <td>0</td>\n",
              "      <td>0.0</td>\n",
              "      <td>53</td>\n",
              "      <td>1783.791667</td>\n",
              "      <td>0.007143</td>\n",
              "      <td>0.029031</td>\n",
              "      <td>12.241717</td>\n",
              "      <td>0.0</td>\n",
              "      <td>...</td>\n",
              "      <td>False</td>\n",
              "      <td>False</td>\n",
              "      <td>False</td>\n",
              "      <td>False</td>\n",
              "      <td>False</td>\n",
              "      <td>False</td>\n",
              "      <td>False</td>\n",
              "      <td>False</td>\n",
              "      <td>False</td>\n",
              "      <td>True</td>\n",
              "    </tr>\n",
              "    <tr>\n",
              "      <th>12326</th>\n",
              "      <td>0</td>\n",
              "      <td>0.0</td>\n",
              "      <td>0</td>\n",
              "      <td>0.0</td>\n",
              "      <td>5</td>\n",
              "      <td>465.750000</td>\n",
              "      <td>0.000000</td>\n",
              "      <td>0.021333</td>\n",
              "      <td>0.000000</td>\n",
              "      <td>0.0</td>\n",
              "      <td>...</td>\n",
              "      <td>False</td>\n",
              "      <td>False</td>\n",
              "      <td>False</td>\n",
              "      <td>False</td>\n",
              "      <td>False</td>\n",
              "      <td>True</td>\n",
              "      <td>False</td>\n",
              "      <td>False</td>\n",
              "      <td>False</td>\n",
              "      <td>True</td>\n",
              "    </tr>\n",
              "    <tr>\n",
              "      <th>12327</th>\n",
              "      <td>0</td>\n",
              "      <td>0.0</td>\n",
              "      <td>0</td>\n",
              "      <td>0.0</td>\n",
              "      <td>6</td>\n",
              "      <td>184.250000</td>\n",
              "      <td>0.083333</td>\n",
              "      <td>0.086667</td>\n",
              "      <td>0.000000</td>\n",
              "      <td>0.0</td>\n",
              "      <td>...</td>\n",
              "      <td>False</td>\n",
              "      <td>False</td>\n",
              "      <td>False</td>\n",
              "      <td>False</td>\n",
              "      <td>False</td>\n",
              "      <td>True</td>\n",
              "      <td>False</td>\n",
              "      <td>False</td>\n",
              "      <td>False</td>\n",
              "      <td>True</td>\n",
              "    </tr>\n",
              "    <tr>\n",
              "      <th>12328</th>\n",
              "      <td>4</td>\n",
              "      <td>75.0</td>\n",
              "      <td>0</td>\n",
              "      <td>0.0</td>\n",
              "      <td>15</td>\n",
              "      <td>346.000000</td>\n",
              "      <td>0.000000</td>\n",
              "      <td>0.021053</td>\n",
              "      <td>0.000000</td>\n",
              "      <td>0.0</td>\n",
              "      <td>...</td>\n",
              "      <td>False</td>\n",
              "      <td>False</td>\n",
              "      <td>False</td>\n",
              "      <td>False</td>\n",
              "      <td>False</td>\n",
              "      <td>True</td>\n",
              "      <td>False</td>\n",
              "      <td>False</td>\n",
              "      <td>False</td>\n",
              "      <td>True</td>\n",
              "    </tr>\n",
              "    <tr>\n",
              "      <th>12329</th>\n",
              "      <td>0</td>\n",
              "      <td>0.0</td>\n",
              "      <td>0</td>\n",
              "      <td>0.0</td>\n",
              "      <td>3</td>\n",
              "      <td>21.250000</td>\n",
              "      <td>0.000000</td>\n",
              "      <td>0.066667</td>\n",
              "      <td>0.000000</td>\n",
              "      <td>0.0</td>\n",
              "      <td>...</td>\n",
              "      <td>False</td>\n",
              "      <td>False</td>\n",
              "      <td>False</td>\n",
              "      <td>False</td>\n",
              "      <td>False</td>\n",
              "      <td>True</td>\n",
              "      <td>False</td>\n",
              "      <td>False</td>\n",
              "      <td>False</td>\n",
              "      <td>False</td>\n",
              "    </tr>\n",
              "  </tbody>\n",
              "</table>\n",
              "<p>5 rows × 27 columns</p>\n",
              "</div>"
            ],
            "text/plain": [
              "       Administrative  Administrative_Duration  Informational  \\\n",
              "12325               3                    145.0              0   \n",
              "12326               0                      0.0              0   \n",
              "12327               0                      0.0              0   \n",
              "12328               4                     75.0              0   \n",
              "12329               0                      0.0              0   \n",
              "\n",
              "       Informational_Duration  ProductRelated  ProductRelated_Duration  \\\n",
              "12325                     0.0              53              1783.791667   \n",
              "12326                     0.0               5               465.750000   \n",
              "12327                     0.0               6               184.250000   \n",
              "12328                     0.0              15               346.000000   \n",
              "12329                     0.0               3                21.250000   \n",
              "\n",
              "       BounceRates  ExitRates  PageValues  SpecialDay  ...  Month_Feb  \\\n",
              "12325     0.007143   0.029031   12.241717         0.0  ...      False   \n",
              "12326     0.000000   0.021333    0.000000         0.0  ...      False   \n",
              "12327     0.083333   0.086667    0.000000         0.0  ...      False   \n",
              "12328     0.000000   0.021053    0.000000         0.0  ...      False   \n",
              "12329     0.000000   0.066667    0.000000         0.0  ...      False   \n",
              "\n",
              "       Month_Jul  Month_June  Month_Mar  Month_May  Month_Nov  Month_Oct  \\\n",
              "12325      False       False      False      False      False      False   \n",
              "12326      False       False      False      False       True      False   \n",
              "12327      False       False      False      False       True      False   \n",
              "12328      False       False      False      False       True      False   \n",
              "12329      False       False      False      False       True      False   \n",
              "\n",
              "       Month_Sep  VisitorType_Other  VisitorType_Returning_Visitor  \n",
              "12325      False              False                           True  \n",
              "12326      False              False                           True  \n",
              "12327      False              False                           True  \n",
              "12328      False              False                           True  \n",
              "12329      False              False                          False  \n",
              "\n",
              "[5 rows x 27 columns]"
            ]
          },
          "execution_count": 8,
          "metadata": {},
          "output_type": "execute_result"
        }
      ],
      "source": [
        "# We are ready to encoding (check last 5 ones)\n",
        "\n",
        "dummies_data = pd.get_dummies(data, drop_first=True)\n",
        "\n",
        "print(f'Shape of data: {dummies_data.shape}')\n",
        "dummies_data.tail()"
      ]
    },
    {
      "cell_type": "markdown",
      "metadata": {
        "id": "fhvLgkakCA1t"
      },
      "source": [
        "5. Теперь, когда необходимые преобразования выполнены, мы можем говорить о построении модели.\n",
        "6. Сбалансирована ли данная выборка? Обоснуйте свою позицию\n",
        "\n",
        "Итак, нам необходимо предсказать целевую переменную Revenue — признак покупки. Целевой признак является бинарным категориальным, то есть мы решаем задачу бинарной классификации.\n",
        "В первую очередь визуализируйте соотношение классов в данных:"
      ]
    },
    {
      "cell_type": "code",
      "execution_count": 9,
      "metadata": {
        "id": "woScUkcUCGM-"
      },
      "outputs": [
        {
          "data": {
            "text/plain": [
              "<Axes: xlabel='Revenue', ylabel='count'>"
            ]
          },
          "execution_count": 9,
          "metadata": {},
          "output_type": "execute_result"
        },
        {
          "data": {
            "image/png": "[encoded data removed]",
            "text/plain": [
              "<Figure size 800x550 with 1 Axes>"
            ]
          },
          "metadata": {},
          "output_type": "display_data"
        }
      ],
      "source": [
        "# So, we see strongly imbalance of classes.\n",
        "# Finally, people buy about 2000 (about 15.47%) times and don't buy more then 10000\n",
        "\n",
        "sns.countplot(data=dummies_data, x='Revenue')"
      ]
    },
    {
      "cell_type": "markdown",
      "metadata": {
        "id": "UTnuDsX2CZup"
      },
      "source": [
        "7. Из 12330 сессий покупкой товара завершаются лишь 15.47 %. Мы знаем, что такое соотношение классов заставляет нас смотреть на метрики для каждого из классов отдельно.\n",
        "\n",
        "Условимся, что лучшей будет считаться та модель, у которой значение метрики F1 для пользователей, совершивших покупку, будет наибольшим.\n",
        "\n",
        "Разделите набор данных на матрицу наблюдений X и вектор ответов y:"
      ]
    },
    {
      "cell_type": "code",
      "execution_count": 10,
      "metadata": {
        "id": "KcCp1PoxCche"
      },
      "outputs": [
        {
          "name": "stdout",
          "output_type": "stream",
          "text": [
            "X shape: (12330, 26)\n",
            "y shape: (12330,)\n"
          ]
        }
      ],
      "source": [
        "X = dummies_data.drop(['Revenue'], axis=1)\n",
        "y = dummies_data['Revenue']\n",
        "\n",
        "print('X shape:', X.shape)\n",
        "print('y shape:', y.shape)"
      ]
    },
    {
      "cell_type": "markdown",
      "metadata": {
        "id": "FrWLIMoFCgLl"
      },
      "source": [
        "Давайте заранее определимся, как мы будем производить контроль качества наших моделей:\n",
        "\n",
        "Разделим выборку на тренировочную и тестовую.\n",
        "Будем проводить кросс-валидацию на тренировочной выборке (то есть будем делить её на тренировочные и валидационные фолды и считать среднее значение метрики по фолдам).\n",
        "Итого мы будем использовать два показателя:\n",
        "\n",
        "значение метрики на тренировочных и валидационных фолдах кросс-валидации (по ним мы будем отслеживать переобучение модели и подбирать внешние параметры);\n",
        "значение метрики на отложенной тестовой выборке (оно будет нашим контрольным показателем).\n",
        "Другими словами, мы будем сочетать hold-оut- и k-fold-подходы к валидации."
      ]
    },
    {
      "cell_type": "markdown",
      "metadata": {
        "id": "PpQvj38YCjXL"
      },
      "source": [
        "8. Для начала позаботимся о создании отложенной тестовой выборки.\n",
        "\n",
        "Разделите выборку на тренировочную и тестовую в соотношении 80/20. Используйте разбиение, стратифицированное по целевому признаку. В качестве значения параметра random_state возьмите число 42.\n",
        "\n",
        "Чему равно количество сессий на сайте в тренировочной выборке?"
      ]
    },
    {
      "cell_type": "code",
      "execution_count": 11,
      "metadata": {
        "id": "3_jcbvrHCk8L"
      },
      "outputs": [],
      "source": [
        "X_train, X_test, y_train, y_test = model_selection.train_test_split(\n",
        "    X,\n",
        "    y,\n",
        "    stratify=y,\n",
        "    random_state=SEED,\n",
        "    test_size=0.2\n",
        ")"
      ]
    },
    {
      "cell_type": "markdown",
      "metadata": {
        "id": "M6gVxMTqCoPd"
      },
      "source": [
        "9. Расчитайте количество сессий в тестовой выборке:"
      ]
    },
    {
      "cell_type": "code",
      "execution_count": 12,
      "metadata": {
        "id": "i69p0t11CqX3"
      },
      "outputs": [
        {
          "name": "stdout",
          "output_type": "stream",
          "text": [
            "Sessions count for train: 9864\n",
            "Sessions count for test: 2466\n"
          ]
        }
      ],
      "source": [
        "print('Sessions count for train:', y_train.shape[0])\n",
        "print('Sessions count for test:', y_test.shape[0])"
      ]
    },
    {
      "cell_type": "markdown",
      "metadata": {
        "id": "6dv38ggKCvgj"
      },
      "source": [
        "10.Коллеги посоветовали нам использовать случайный лес (Random Forest) для решения данной задачи. Давайте последуем их совету.\n",
        "\n",
        "Создайте модель случайного леса. В качестве значения параметра random_state возьмите число 42. Остальные параметры оставьте по умолчанию.\n",
        "\n",
        "Оцените качество такой модели с помощью кросс-валидации по пяти фолдам. Так как классы несбалансированы, используйте кросс-валидатор StratifiedKFold (перемешивать выборку не нужно).\n",
        "\n",
        "Для проведения кросс-валидации используйте функцию cross_validate(). Набор данных (параметры X, y) — тренировочная выборка (X_train, y_train). Метрика — F1-score.\n",
        "\n",
        "Расчитайте, чему равно среднее значение метрики  на тренировочных и валидационных фолдах?"
      ]
    },
    {
      "cell_type": "code",
      "execution_count": 13,
      "metadata": {
        "id": "vF1gs3PTDAC_"
      },
      "outputs": [],
      "source": [
        "# Let's create Random Forest class object\n",
        "\n",
        "rf_model = ensemble.RandomForestClassifier(\n",
        "    random_state=SEED\n",
        ")\n",
        "\n",
        "rf_model.fit(X_train, y_train)\n",
        "\n",
        "train_scores = metrics.f1_score(y_train, rf_model.predict(X_train))"
      ]
    },
    {
      "cell_type": "code",
      "execution_count": 14,
      "metadata": {},
      "outputs": [],
      "source": [
        "# Realize stratifed cross-validation on 5 folds\n",
        "\n",
        "class CrossValidation:\n",
        "\n",
        "    def __init__(self, n_splits=5, shuffle=False, **kwargs):\n",
        "        self.skf = model_selection.StratifiedKFold(\n",
        "            n_splits=n_splits,\n",
        "            shuffle=shuffle,\n",
        "            **kwargs\n",
        "        )\n",
        "\n",
        "        self.cv_method = {\n",
        "            'cross_val_score': self._cross_val_score,\n",
        "            'custom': self._custom,\n",
        "            'learning_curve': self._learning_curve\n",
        "        }\n",
        "\n",
        "\n",
        "    def _cross_val_score(self, X, y, rf_model):\n",
        "        '''CV with using cross_val_score function'''\n",
        "        scores = model_selection.cross_val_score(\n",
        "            rf_model,\n",
        "            X,\n",
        "            y,\n",
        "            cv=self.skf,\n",
        "            scoring='f1'\n",
        "        )\n",
        "\n",
        "        avg_score = np.mean(scores)\n",
        "\n",
        "        return scores, avg_score\n",
        "\n",
        "\n",
        "    def _custom(self, X, y, rf_model):\n",
        "        '''Custom cv on for loop'''\n",
        "        f1_trains = []\n",
        "        f1_tests = []\n",
        "\n",
        "        for i, split_idxs in enumerate(self.skf.split(X, y)):\n",
        "            train_idx, test_idx = split_idxs\n",
        "\n",
        "            X_current = X.iloc[train_idx]\n",
        "            X_test_current = X.iloc[test_idx]\n",
        "            y_current = y.iloc[train_idx]\n",
        "            y_test_current = y.iloc[test_idx]\n",
        "\n",
        "            rf_model.fit(X_current, y_current)\n",
        "\n",
        "            y_pred = rf_model.predict(X_current)\n",
        "            y_test_pred = rf_model.predict(X_test_current)\n",
        "\n",
        "            f1_train = metrics.f1_score(y_current, y_pred)\n",
        "            f1_test = metrics.f1_score(y_test_current, y_test_pred)\n",
        "\n",
        "            print(f'For {i+1} fold:\\n\\t-Train: {f1_train}\\n\\t-Test: {f1_test}')\n",
        "\n",
        "            f1_trains.append(f1_train)\n",
        "            f1_tests.append(f1_test)\n",
        "\n",
        "        avg_train = np.mean(f1_trains)\n",
        "        avg_test = np.mean(f1_tests)\n",
        "\n",
        "        return avg_train, avg_test\n",
        "\n",
        "\n",
        "    def _learning_curve(self, X, y, rf_model):\n",
        "        '''CV with learning_curve function'''\n",
        "        train_sizes, \\\n",
        "        train_scores, \\\n",
        "        test_scores = \\\n",
        "            model_selection.learning_curve(\n",
        "                rf_model,\n",
        "                X,\n",
        "                y,\n",
        "                cv=self.skf,\n",
        "                scoring='f1'\n",
        "            )\n",
        "        \n",
        "        # Calculate mean and std f1-score for every fold\n",
        "        train_mean = np.mean(train_scores, axis=1)\n",
        "        train_std = np.std(train_scores, axis=1)\n",
        "\n",
        "        test_mean = np.mean(test_scores, axis=1)\n",
        "        test_std = np.std(test_scores, axis=1)\n",
        "        \n",
        "        return (\n",
        "            train_sizes, \n",
        "            train_scores, \n",
        "            test_scores, \n",
        "            train_mean, \n",
        "            train_std, \n",
        "            test_mean, \n",
        "            test_std\n",
        "        )\n",
        "\n",
        "\n",
        "    def cross_validate(\n",
        "        self, \n",
        "        X_train,\n",
        "        y_train,\n",
        "        rf_model,\n",
        "        cv_method: str='custom'\n",
        "    ):\n",
        "        result = self.cv_method[cv_method](X_train, y_train, rf_model)\n",
        "\n",
        "        return result\n",
        "    \n",
        "\n",
        "CV = CrossValidation()"
      ]
    },
    {
      "cell_type": "code",
      "execution_count": 15,
      "metadata": {},
      "outputs": [
        {
          "name": "stdout",
          "output_type": "stream",
          "text": [
            "F1 for every folds: [0.60740741 0.56666667 0.58394161 0.52380952 0.61538462]\n",
            "F1 train_score: 1.0\n",
            "F1 avg: 0.5794419638215259\n"
          ]
        }
      ],
      "source": [
        "# Let's calculate f1_metric\n",
        "\n",
        "rf_scores, avg_score = CV.cross_validate(\n",
        "    X_train, y_train, rf_model, cv_method='cross_val_score'\n",
        ")\n",
        "\n",
        "rf_scores, avg_score = CV.cross_validate(\n",
        "    X_test, y_test, rf_model, cv_method='cross_val_score'\n",
        ")\n",
        "\n",
        "print('F1 for every folds:', rf_scores)\n",
        "print('F1 train_score:', train_scores)\n",
        "print('F1 avg:', avg_score)"
      ]
    },
    {
      "cell_type": "code",
      "execution_count": 16,
      "metadata": {},
      "outputs": [
        {
          "name": "stdout",
          "output_type": "stream",
          "text": [
            "For 1 fold:\n",
            "\t-Train: 1.0\n",
            "\t-Test: 0.6579439252336449\n",
            "For 2 fold:\n",
            "\t-Train: 0.9995903318312167\n",
            "\t-Test: 0.660482374768089\n",
            "For 3 fold:\n",
            "\t-Train: 1.0\n",
            "\t-Test: 0.6524271844660194\n",
            "For 4 fold:\n",
            "\t-Train: 1.0\n",
            "\t-Test: 0.6325411334552102\n",
            "For 5 fold:\n",
            "\t-Train: 1.0\n",
            "\t-Test: 0.6557377049180327\n",
            "F1 avg for train: 0.9999180663662433\n",
            "F1 avg for test: 0.6518264645681991\n"
          ]
        }
      ],
      "source": [
        "# Let's calculate f1_metric\n",
        "\n",
        "\n",
        "rf_scores, avg_score = CV.cross_validate(\n",
        "    X_train, y_train, rf_model\n",
        ")\n",
        "\n",
        "print('F1 avg for train:', rf_scores)\n",
        "print('F1 avg for test:', avg_score)"
      ]
    },
    {
      "cell_type": "markdown",
      "metadata": {},
      "source": [
        "11. Является ли, по-вашему, построенная в предыдущем задании модель случайного леса переобученной? Обоснуйте вашу позицию"
      ]
    },
    {
      "cell_type": "markdown",
      "metadata": {},
      "source": [
        "> Текущая модель без сомнений является переобученной. На каждом из фолдов кросс-валидации качество на train выборке составляет 100%, чего, конечно, никак не может быть. \n",
        ">\n",
        "> Большая разница междц train и test только подтверждает этот вывод"
      ]
    },
    {
      "cell_type": "markdown",
      "metadata": {
        "id": "LtaA5tJZDKtt"
      },
      "source": [
        "12. Попробуем использовать несколько вариаций случайного леса и с помощью кривых обучения постараемся выбрать наилучшую из них.\n",
        "\n",
        "Создайте список из трёх следующих моделей:\n",
        "\n",
        "Случайный лес из деревьев максимальной глубины 5.\n",
        "Случайный лес из деревьев максимальной глубины 7.\n",
        "Случайный лес из деревьев максимальной глубины 12.\n",
        "Для всех трёх моделей количество деревьев в лесу (n_estimators) возьмите равным 200, количество объектов в листе (min_samples_leaf) — 5. Параметр random_state = 42. Остальные параметры оставьте по умолчанию.\n",
        "\n",
        "Постройте для каждой из моделей кривую обучения.\n",
        "Совет: воспользуйтесь функцией plot_learning_curve()\n",
        "\n",
        "Для построения кривых используйте обучающий набор данных (X_train, y_train), стратифицированный кросс-валидатор на пяти фолдах (StratifiedKFold) и метрику F1-score. Остальные параметры функции learning_curve() оставьте по умолчанию."
      ]
    },
    {
      "cell_type": "code",
      "execution_count": 17,
      "metadata": {},
      "outputs": [],
      "source": [
        "def plot_learning_curve(\n",
        "    train_sizes,\n",
        "    train_mean,\n",
        "    test_mean,\n",
        "    train_std,\n",
        "    test_std\n",
        "):\n",
        "    '''\n",
        "    The function show pyplot with two learning_curves for\n",
        "    traing and test datasets with areal of fold-std\n",
        "    '''\n",
        "    \n",
        "    plt.plot(\n",
        "        train_sizes, \n",
        "        train_mean, \n",
        "        label='Training score', \n",
        "        marker='o'\n",
        "    )\n",
        "    plt.plot(\n",
        "        train_sizes, \n",
        "        test_mean,\n",
        "        label='Test score',\n",
        "        marker='o'\n",
        "    )\n",
        "\n",
        "    plt.fill_between(\n",
        "        train_sizes, \n",
        "        train_mean - train_std, \n",
        "        train_mean + train_std, \n",
        "        color=\"#DDDDDD\"\n",
        "    )\n",
        "    plt.fill_between(\n",
        "        train_sizes, \n",
        "        test_mean - test_std, \n",
        "        test_mean + test_std, \n",
        "        color=\"#DDDDDD\"\n",
        "    )\n",
        "\n",
        "    plt.title('Learning curves for traing and test')\n",
        "    plt.xlabel('Set size')\n",
        "    plt.ylabel('F1-score')\n",
        "    plt.legend(loc='best')\n",
        "\n",
        "    plt.tight_layout()\n",
        "    plt.show()\n",
        "\n",
        "\n",
        "def size_by_scores(sizes: np.ndarray, scores: dict):\n",
        "    '''\n",
        "    It's return Seria with size \n",
        "    of sets and f1_score for their\n",
        "    '''\n",
        "\n",
        "    d_results = {\n",
        "        'Fold size': sizes,\n",
        "    }\n",
        "\n",
        "    d_results.update(scores)\n",
        "\n",
        "    d_results['Diff'] = []\n",
        "\n",
        "    # Get diff of scores:\n",
        "    set_names = list(scores.keys())\n",
        "    for s1, s2 in zip(scores[set_names[0]], scores[set_names[1]]):\n",
        "        d_results['Diff'].append(abs(s1 - s2))\n",
        "\n",
        "    return pd.DataFrame(d_results)"
      ]
    },
    {
      "cell_type": "code",
      "execution_count": 18,
      "metadata": {
        "id": "ZE5ro_DiDSMT"
      },
      "outputs": [],
      "source": [
        "# Random Forest deep 5\n",
        "rf_5 = ensemble.RandomForestClassifier(\n",
        "    max_depth=5,\n",
        "    n_estimators=200,\n",
        "    min_samples_leaf=5, \n",
        "    random_state=SEED\n",
        ")\n",
        "\n",
        "train_sizes, \\\n",
        "train_scores, \\\n",
        "test_scores, \\\n",
        "train_mean, \\\n",
        "train_std, \\\n",
        "test_mean, \\\n",
        "test_std = \\\n",
        "    CV.cross_validate(\n",
        "        X_train, y_train, rf_5, cv_method='learning_curve'\n",
        "    )"
      ]
    },
    {
      "cell_type": "code",
      "execution_count": 19,
      "metadata": {},
      "outputs": [
        {
          "name": "stdout",
          "output_type": "stream",
          "text": [
            "F1-scores mean for every fold per set size:\n"
          ]
        },
        {
          "data": {
            "text/html": [
              "<div>\n",
              "<style scoped>\n",
              "    .dataframe tbody tr th:only-of-type {\n",
              "        vertical-align: middle;\n",
              "    }\n",
              "\n",
              "    .dataframe tbody tr th {\n",
              "        vertical-align: top;\n",
              "    }\n",
              "\n",
              "    .dataframe thead th {\n",
              "        text-align: right;\n",
              "    }\n",
              "</style>\n",
              "<table border=\"1\" class=\"dataframe\">\n",
              "  <thead>\n",
              "    <tr style=\"text-align: right;\">\n",
              "      <th></th>\n",
              "      <th>Fold size</th>\n",
              "      <th>Train f1</th>\n",
              "      <th>Test f1</th>\n",
              "      <th>Diff</th>\n",
              "    </tr>\n",
              "  </thead>\n",
              "  <tbody>\n",
              "    <tr>\n",
              "      <th>0</th>\n",
              "      <td>789</td>\n",
              "      <td>0.667454</td>\n",
              "      <td>0.424012</td>\n",
              "      <td>0.243443</td>\n",
              "    </tr>\n",
              "    <tr>\n",
              "      <th>1</th>\n",
              "      <td>2564</td>\n",
              "      <td>0.659297</td>\n",
              "      <td>0.563303</td>\n",
              "      <td>0.095995</td>\n",
              "    </tr>\n",
              "    <tr>\n",
              "      <th>2</th>\n",
              "      <td>4340</td>\n",
              "      <td>0.615273</td>\n",
              "      <td>0.553971</td>\n",
              "      <td>0.061303</td>\n",
              "    </tr>\n",
              "    <tr>\n",
              "      <th>3</th>\n",
              "      <td>6115</td>\n",
              "      <td>0.607847</td>\n",
              "      <td>0.560194</td>\n",
              "      <td>0.047653</td>\n",
              "    </tr>\n",
              "    <tr>\n",
              "      <th>4</th>\n",
              "      <td>7891</td>\n",
              "      <td>0.583115</td>\n",
              "      <td>0.540465</td>\n",
              "      <td>0.042650</td>\n",
              "    </tr>\n",
              "  </tbody>\n",
              "</table>\n",
              "</div>"
            ],
            "text/plain": [
              "   Fold size  Train f1   Test f1      Diff\n",
              "0        789  0.667454  0.424012  0.243443\n",
              "1       2564  0.659297  0.563303  0.095995\n",
              "2       4340  0.615273  0.553971  0.061303\n",
              "3       6115  0.607847  0.560194  0.047653\n",
              "4       7891  0.583115  0.540465  0.042650"
            ]
          },
          "metadata": {},
          "output_type": "display_data"
        },
        {
          "data": {
            "image/png": "[encoded data removed]",
            "text/plain": [
              "<Figure size 800x550 with 1 Axes>"
            ]
          },
          "metadata": {},
          "output_type": "display_data"
        }
      ],
      "source": [
        "# Results and learning_curve\n",
        "\n",
        "print('F1-scores mean for every fold per set size:')\n",
        "display(\n",
        "    size_by_scores(\n",
        "        train_sizes, {'Train f1': train_mean, 'Test f1': test_mean}\n",
        "    )\n",
        ")\n",
        "\n",
        "plot_learning_curve(\n",
        "    train_sizes, train_mean, test_mean, train_std, test_std\n",
        ")"
      ]
    },
    {
      "cell_type": "code",
      "execution_count": 20,
      "metadata": {},
      "outputs": [],
      "source": [
        "# Random Forest deep 7\n",
        "rf_7 = ensemble.RandomForestClassifier(\n",
        "    max_depth=7,\n",
        "    n_estimators=200,\n",
        "    min_samples_leaf=5,\n",
        "    random_state=SEED\n",
        ")\n",
        "\n",
        "train_sizes, \\\n",
        "train_scores, \\\n",
        "test_scores, \\\n",
        "train_mean, \\\n",
        "train_std, \\\n",
        "test_mean, \\\n",
        "test_std = \\\n",
        "    CV.cross_validate(\n",
        "        X_train, y_train, rf_7, cv_method='learning_curve'\n",
        "    )"
      ]
    },
    {
      "cell_type": "code",
      "execution_count": 21,
      "metadata": {},
      "outputs": [
        {
          "name": "stdout",
          "output_type": "stream",
          "text": [
            "F1-scores mean for every fold per set size:\n"
          ]
        },
        {
          "data": {
            "text/html": [
              "<div>\n",
              "<style scoped>\n",
              "    .dataframe tbody tr th:only-of-type {\n",
              "        vertical-align: middle;\n",
              "    }\n",
              "\n",
              "    .dataframe tbody tr th {\n",
              "        vertical-align: top;\n",
              "    }\n",
              "\n",
              "    .dataframe thead th {\n",
              "        text-align: right;\n",
              "    }\n",
              "</style>\n",
              "<table border=\"1\" class=\"dataframe\">\n",
              "  <thead>\n",
              "    <tr style=\"text-align: right;\">\n",
              "      <th></th>\n",
              "      <th>Fold size</th>\n",
              "      <th>Train f1</th>\n",
              "      <th>Test f1</th>\n",
              "      <th>Diff</th>\n",
              "    </tr>\n",
              "  </thead>\n",
              "  <tbody>\n",
              "    <tr>\n",
              "      <th>0</th>\n",
              "      <td>789</td>\n",
              "      <td>0.787697</td>\n",
              "      <td>0.508973</td>\n",
              "      <td>0.278725</td>\n",
              "    </tr>\n",
              "    <tr>\n",
              "      <th>1</th>\n",
              "      <td>2564</td>\n",
              "      <td>0.753162</td>\n",
              "      <td>0.636426</td>\n",
              "      <td>0.116736</td>\n",
              "    </tr>\n",
              "    <tr>\n",
              "      <th>2</th>\n",
              "      <td>4340</td>\n",
              "      <td>0.732231</td>\n",
              "      <td>0.630079</td>\n",
              "      <td>0.102152</td>\n",
              "    </tr>\n",
              "    <tr>\n",
              "      <th>3</th>\n",
              "      <td>6115</td>\n",
              "      <td>0.710212</td>\n",
              "      <td>0.633528</td>\n",
              "      <td>0.076684</td>\n",
              "    </tr>\n",
              "    <tr>\n",
              "      <th>4</th>\n",
              "      <td>7891</td>\n",
              "      <td>0.696132</td>\n",
              "      <td>0.634516</td>\n",
              "      <td>0.061616</td>\n",
              "    </tr>\n",
              "  </tbody>\n",
              "</table>\n",
              "</div>"
            ],
            "text/plain": [
              "   Fold size  Train f1   Test f1      Diff\n",
              "0        789  0.787697  0.508973  0.278725\n",
              "1       2564  0.753162  0.636426  0.116736\n",
              "2       4340  0.732231  0.630079  0.102152\n",
              "3       6115  0.710212  0.633528  0.076684\n",
              "4       7891  0.696132  0.634516  0.061616"
            ]
          },
          "metadata": {},
          "output_type": "display_data"
        },
        {
          "data": {
            "image/png": "[encoded data removed]",
            "text/plain": [
              "<Figure size 800x550 with 1 Axes>"
            ]
          },
          "metadata": {},
          "output_type": "display_data"
        }
      ],
      "source": [
        "# Results and learning_curve\n",
        "\n",
        "print('F1-scores mean for every fold per set size:')\n",
        "display(\n",
        "    size_by_scores(\n",
        "        train_sizes, {'Train f1': train_mean, 'Test f1': test_mean}\n",
        "    )\n",
        ")\n",
        "\n",
        "plot_learning_curve(\n",
        "    train_sizes, train_mean, test_mean, train_std, test_std\n",
        ")"
      ]
    },
    {
      "cell_type": "code",
      "execution_count": 22,
      "metadata": {},
      "outputs": [],
      "source": [
        "# Random Forest deep 12\n",
        "rf_12 = ensemble.RandomForestClassifier(\n",
        "    max_depth=12,\n",
        "    n_estimators=200,\n",
        "    min_samples_leaf=5,\n",
        "    random_state=SEED\n",
        ")\n",
        "\n",
        "train_sizes, \\\n",
        "train_scores, \\\n",
        "test_scores, \\\n",
        "train_mean, \\\n",
        "train_std, \\\n",
        "test_mean, \\\n",
        "test_std = \\\n",
        "    CV.cross_validate(\n",
        "        X_train, y_train, rf_12, cv_method='learning_curve'\n",
        "    )"
      ]
    },
    {
      "cell_type": "code",
      "execution_count": 23,
      "metadata": {},
      "outputs": [
        {
          "name": "stdout",
          "output_type": "stream",
          "text": [
            "F1-scores mean for every fold per set size:\n"
          ]
        },
        {
          "data": {
            "text/html": [
              "<div>\n",
              "<style scoped>\n",
              "    .dataframe tbody tr th:only-of-type {\n",
              "        vertical-align: middle;\n",
              "    }\n",
              "\n",
              "    .dataframe tbody tr th {\n",
              "        vertical-align: top;\n",
              "    }\n",
              "\n",
              "    .dataframe thead th {\n",
              "        text-align: right;\n",
              "    }\n",
              "</style>\n",
              "<table border=\"1\" class=\"dataframe\">\n",
              "  <thead>\n",
              "    <tr style=\"text-align: right;\">\n",
              "      <th></th>\n",
              "      <th>Fold size</th>\n",
              "      <th>Train f1</th>\n",
              "      <th>Test f1</th>\n",
              "      <th>Diff</th>\n",
              "    </tr>\n",
              "  </thead>\n",
              "  <tbody>\n",
              "    <tr>\n",
              "      <th>0</th>\n",
              "      <td>789</td>\n",
              "      <td>0.778511</td>\n",
              "      <td>0.532905</td>\n",
              "      <td>0.245605</td>\n",
              "    </tr>\n",
              "    <tr>\n",
              "      <th>1</th>\n",
              "      <td>2564</td>\n",
              "      <td>0.811251</td>\n",
              "      <td>0.645197</td>\n",
              "      <td>0.166054</td>\n",
              "    </tr>\n",
              "    <tr>\n",
              "      <th>2</th>\n",
              "      <td>4340</td>\n",
              "      <td>0.805299</td>\n",
              "      <td>0.639280</td>\n",
              "      <td>0.166018</td>\n",
              "    </tr>\n",
              "    <tr>\n",
              "      <th>3</th>\n",
              "      <td>6115</td>\n",
              "      <td>0.801236</td>\n",
              "      <td>0.654931</td>\n",
              "      <td>0.146304</td>\n",
              "    </tr>\n",
              "    <tr>\n",
              "      <th>4</th>\n",
              "      <td>7891</td>\n",
              "      <td>0.791154</td>\n",
              "      <td>0.652146</td>\n",
              "      <td>0.139007</td>\n",
              "    </tr>\n",
              "  </tbody>\n",
              "</table>\n",
              "</div>"
            ],
            "text/plain": [
              "   Fold size  Train f1   Test f1      Diff\n",
              "0        789  0.778511  0.532905  0.245605\n",
              "1       2564  0.811251  0.645197  0.166054\n",
              "2       4340  0.805299  0.639280  0.166018\n",
              "3       6115  0.801236  0.654931  0.146304\n",
              "4       7891  0.791154  0.652146  0.139007"
            ]
          },
          "metadata": {},
          "output_type": "display_data"
        },
        {
          "data": {
            "image/png": "[encoded data removed]",
            "text/plain": [
              "<Figure size 800x550 with 1 Axes>"
            ]
          },
          "metadata": {},
          "output_type": "display_data"
        }
      ],
      "source": [
        "# Results and learning_curve\n",
        "\n",
        "print('F1-scores mean for every fold per set size:')\n",
        "display(\n",
        "    size_by_scores(\n",
        "        train_sizes, {'Train f1': train_mean, 'Test f1': test_mean}\n",
        "    )\n",
        ")\n",
        "\n",
        "plot_learning_curve(train_sizes, train_mean, test_mean, train_std, test_std)"
      ]
    },
    {
      "cell_type": "markdown",
      "metadata": {
        "id": "2NzTDouyDSjC"
      },
      "source": [
        "13. Из построенных кривых обучения сделайте вывод: какая глубина деревьев в лесу является оптимальной? Ответ обоснуйте"
      ]
    },
    {
      "cell_type": "markdown",
      "metadata": {
        "id": "BzsLRZrKDeo6"
      },
      "source": [
        "> По построенным кривым обучения можно сделать следующие выводы.\n",
        "> \n",
        "> Наиболее оптимальной глубиной дерева из 3х представленных является глубина, равная 7, поскольку в этом случае разница между F1 на тренировочной и тестовой выборках является наиболее оптимальной по сравнению с остальными моделями.\n",
        "> \n",
        "> Так, не смотря на то, что при глубине в 5 разница между скорами меньше, суммарно, f1 метрика на моделе rf_7 выше, а также разброс среднего в рамках стандартного отклонения у rf_7 также меньше.\n",
        "> \n",
        "> Судя по метрикам, модель на глубину 12 подстроилась под train данные, т.е. - переобучилась.\n",
        "> \n",
        "> Таким образом, из трех представленных моделей наиболее оптимальной является модель с глубиной в 7.\n"
      ]
    },
    {
      "cell_type": "markdown",
      "metadata": {
        "id": "O6BtRB--Dkrk"
      },
      "source": [
        "14. Обучите случайный лес с выбранной в предыдущем задании оптимальной глубиной на тренировочной выборке. Сделайте предсказание меток классов и выведите отчёт о метриках классификации.\n",
        "\n",
        "Рассчитайте значение метрики accuracy"
      ]
    },
    {
      "cell_type": "markdown",
      "metadata": {},
      "source": [
        "15. Рассчитайте значение метрики F1 для посетителей, завершивших сессию без покупки товара?"
      ]
    },
    {
      "cell_type": "markdown",
      "metadata": {},
      "source": [
        "16. Рассчитайте значение метрики F1 для посетителей, купивших товар во время сессии?"
      ]
    },
    {
      "cell_type": "code",
      "execution_count": 24,
      "metadata": {
        "id": "CbrhZIjVDnqW"
      },
      "outputs": [
        {
          "data": {
            "text/html": [
              "<style>#sk-container-id-1 {\n",
              "  /* Definition of color scheme common for light and dark mode */\n",
              "  --sklearn-color-text: #000;\n",
              "  --sklearn-color-text-muted: #666;\n",
              "  --sklearn-color-line: gray;\n",
              "  /* Definition of color scheme for unfitted estimators */\n",
              "  --sklearn-color-unfitted-level-0: #fff5e6;\n",
              "  --sklearn-color-unfitted-level-1: #f6e4d2;\n",
              "  --sklearn-color-unfitted-level-2: #ffe0b3;\n",
              "  --sklearn-color-unfitted-level-3: chocolate;\n",
              "  /* Definition of color scheme for fitted estimators */\n",
              "  --sklearn-color-fitted-level-0: #f0f8ff;\n",
              "  --sklearn-color-fitted-level-1: #d4ebff;\n",
              "  --sklearn-color-fitted-level-2: #b3dbfd;\n",
              "  --sklearn-color-fitted-level-3: cornflowerblue;\n",
              "\n",
              "  /* Specific color for light theme */\n",
              "  --sklearn-color-text-on-default-background: var(--sg-text-color, var(--theme-code-foreground, var(--jp-content-font-color1, black)));\n",
              "  --sklearn-color-background: var(--sg-background-color, var(--theme-background, var(--jp-layout-color0, white)));\n",
              "  --sklearn-color-border-box: var(--sg-text-color, var(--theme-code-foreground, var(--jp-content-font-color1, black)));\n",
              "  --sklearn-color-icon: #696969;\n",
              "\n",
              "  @media (prefers-color-scheme: dark) {\n",
              "    /* Redefinition of color scheme for dark theme */\n",
              "    --sklearn-color-text-on-default-background: var(--sg-text-color, var(--theme-code-foreground, var(--jp-content-font-color1, white)));\n",
              "    --sklearn-color-background: var(--sg-background-color, var(--theme-background, var(--jp-layout-color0, #111)));\n",
              "    --sklearn-color-border-box: var(--sg-text-color, var(--theme-code-foreground, var(--jp-content-font-color1, white)));\n",
              "    --sklearn-color-icon: #878787;\n",
              "  }\n",
              "}\n",
              "\n",
              "#sk-container-id-1 {\n",
              "  color: var(--sklearn-color-text);\n",
              "}\n",
              "\n",
              "#sk-container-id-1 pre {\n",
              "  padding: 0;\n",
              "}\n",
              "\n",
              "#sk-container-id-1 input.sk-hidden--visually {\n",
              "  border: 0;\n",
              "  clip: rect(1px 1px 1px 1px);\n",
              "  clip: rect(1px, 1px, 1px, 1px);\n",
              "  height: 1px;\n",
              "  margin: -1px;\n",
              "  overflow: hidden;\n",
              "  padding: 0;\n",
              "  position: absolute;\n",
              "  width: 1px;\n",
              "}\n",
              "\n",
              "#sk-container-id-1 div.sk-dashed-wrapped {\n",
              "  border: 1px dashed var(--sklearn-color-line);\n",
              "  margin: 0 0.4em 0.5em 0.4em;\n",
              "  box-sizing: border-box;\n",
              "  padding-bottom: 0.4em;\n",
              "  background-color: var(--sklearn-color-background);\n",
              "}\n",
              "\n",
              "#sk-container-id-1 div.sk-container {\n",
              "  /* jupyter's `normalize.less` sets `[hidden] { display: none; }`\n",
              "     but bootstrap.min.css set `[hidden] { display: none !important; }`\n",
              "     so we also need the `!important` here to be able to override the\n",
              "     default hidden behavior on the sphinx rendered scikit-learn.org.\n",
              "     See: https://github.com/scikit-learn/scikit-learn/issues/21755 */\n",
              "  display: inline-block !important;\n",
              "  position: relative;\n",
              "}\n",
              "\n",
              "#sk-container-id-1 div.sk-text-repr-fallback {\n",
              "  display: none;\n",
              "}\n",
              "\n",
              "div.sk-parallel-item,\n",
              "div.sk-serial,\n",
              "div.sk-item {\n",
              "  /* draw centered vertical line to link estimators */\n",
              "  background-image: linear-gradient(var(--sklearn-color-text-on-default-background), var(--sklearn-color-text-on-default-background));\n",
              "  background-size: 2px 100%;\n",
              "  background-repeat: no-repeat;\n",
              "  background-position: center center;\n",
              "}\n",
              "\n",
              "/* Parallel-specific style estimator block */\n",
              "\n",
              "#sk-container-id-1 div.sk-parallel-item::after {\n",
              "  content: \"\";\n",
              "  width: 100%;\n",
              "  border-bottom: 2px solid var(--sklearn-color-text-on-default-background);\n",
              "  flex-grow: 1;\n",
              "}\n",
              "\n",
              "#sk-container-id-1 div.sk-parallel {\n",
              "  display: flex;\n",
              "  align-items: stretch;\n",
              "  justify-content: center;\n",
              "  background-color: var(--sklearn-color-background);\n",
              "  position: relative;\n",
              "}\n",
              "\n",
              "#sk-container-id-1 div.sk-parallel-item {\n",
              "  display: flex;\n",
              "  flex-direction: column;\n",
              "}\n",
              "\n",
              "#sk-container-id-1 div.sk-parallel-item:first-child::after {\n",
              "  align-self: flex-end;\n",
              "  width: 50%;\n",
              "}\n",
              "\n",
              "#sk-container-id-1 div.sk-parallel-item:last-child::after {\n",
              "  align-self: flex-start;\n",
              "  width: 50%;\n",
              "}\n",
              "\n",
              "#sk-container-id-1 div.sk-parallel-item:only-child::after {\n",
              "  width: 0;\n",
              "}\n",
              "\n",
              "/* Serial-specific style estimator block */\n",
              "\n",
              "#sk-container-id-1 div.sk-serial {\n",
              "  display: flex;\n",
              "  flex-direction: column;\n",
              "  align-items: center;\n",
              "  background-color: var(--sklearn-color-background);\n",
              "  padding-right: 1em;\n",
              "  padding-left: 1em;\n",
              "}\n",
              "\n",
              "\n",
              "/* Toggleable style: style used for estimator/Pipeline/ColumnTransformer box that is\n",
              "clickable and can be expanded/collapsed.\n",
              "- Pipeline and ColumnTransformer use this feature and define the default style\n",
              "- Estimators will overwrite some part of the style using the `sk-estimator` class\n",
              "*/\n",
              "\n",
              "/* Pipeline and ColumnTransformer style (default) */\n",
              "\n",
              "#sk-container-id-1 div.sk-toggleable {\n",
              "  /* Default theme specific background. It is overwritten whether we have a\n",
              "  specific estimator or a Pipeline/ColumnTransformer */\n",
              "  background-color: var(--sklearn-color-background);\n",
              "}\n",
              "\n",
              "/* Toggleable label */\n",
              "#sk-container-id-1 label.sk-toggleable__label {\n",
              "  cursor: pointer;\n",
              "  display: flex;\n",
              "  width: 100%;\n",
              "  margin-bottom: 0;\n",
              "  padding: 0.5em;\n",
              "  box-sizing: border-box;\n",
              "  text-align: center;\n",
              "  align-items: start;\n",
              "  justify-content: space-between;\n",
              "  gap: 0.5em;\n",
              "}\n",
              "\n",
              "#sk-container-id-1 label.sk-toggleable__label .caption {\n",
              "  font-size: 0.6rem;\n",
              "  font-weight: lighter;\n",
              "  color: var(--sklearn-color-text-muted);\n",
              "}\n",
              "\n",
              "#sk-container-id-1 label.sk-toggleable__label-arrow:before {\n",
              "  /* Arrow on the left of the label */\n",
              "  content: \"▸\";\n",
              "  float: left;\n",
              "  margin-right: 0.25em;\n",
              "  color: var(--sklearn-color-icon);\n",
              "}\n",
              "\n",
              "#sk-container-id-1 label.sk-toggleable__label-arrow:hover:before {\n",
              "  color: var(--sklearn-color-text);\n",
              "}\n",
              "\n",
              "/* Toggleable content - dropdown */\n",
              "\n",
              "#sk-container-id-1 div.sk-toggleable__content {\n",
              "  max-height: 0;\n",
              "  max-width: 0;\n",
              "  overflow: hidden;\n",
              "  text-align: left;\n",
              "  /* unfitted */\n",
              "  background-color: var(--sklearn-color-unfitted-level-0);\n",
              "}\n",
              "\n",
              "#sk-container-id-1 div.sk-toggleable__content.fitted {\n",
              "  /* fitted */\n",
              "  background-color: var(--sklearn-color-fitted-level-0);\n",
              "}\n",
              "\n",
              "#sk-container-id-1 div.sk-toggleable__content pre {\n",
              "  margin: 0.2em;\n",
              "  border-radius: 0.25em;\n",
              "  color: var(--sklearn-color-text);\n",
              "  /* unfitted */\n",
              "  background-color: var(--sklearn-color-unfitted-level-0);\n",
              "}\n",
              "\n",
              "#sk-container-id-1 div.sk-toggleable__content.fitted pre {\n",
              "  /* unfitted */\n",
              "  background-color: var(--sklearn-color-fitted-level-0);\n",
              "}\n",
              "\n",
              "#sk-container-id-1 input.sk-toggleable__control:checked~div.sk-toggleable__content {\n",
              "  /* Expand drop-down */\n",
              "  max-height: 200px;\n",
              "  max-width: 100%;\n",
              "  overflow: auto;\n",
              "}\n",
              "\n",
              "#sk-container-id-1 input.sk-toggleable__control:checked~label.sk-toggleable__label-arrow:before {\n",
              "  content: \"▾\";\n",
              "}\n",
              "\n",
              "/* Pipeline/ColumnTransformer-specific style */\n",
              "\n",
              "#sk-container-id-1 div.sk-label input.sk-toggleable__control:checked~label.sk-toggleable__label {\n",
              "  color: var(--sklearn-color-text);\n",
              "  background-color: var(--sklearn-color-unfitted-level-2);\n",
              "}\n",
              "\n",
              "#sk-container-id-1 div.sk-label.fitted input.sk-toggleable__control:checked~label.sk-toggleable__label {\n",
              "  background-color: var(--sklearn-color-fitted-level-2);\n",
              "}\n",
              "\n",
              "/* Estimator-specific style */\n",
              "\n",
              "/* Colorize estimator box */\n",
              "#sk-container-id-1 div.sk-estimator input.sk-toggleable__control:checked~label.sk-toggleable__label {\n",
              "  /* unfitted */\n",
              "  background-color: var(--sklearn-color-unfitted-level-2);\n",
              "}\n",
              "\n",
              "#sk-container-id-1 div.sk-estimator.fitted input.sk-toggleable__control:checked~label.sk-toggleable__label {\n",
              "  /* fitted */\n",
              "  background-color: var(--sklearn-color-fitted-level-2);\n",
              "}\n",
              "\n",
              "#sk-container-id-1 div.sk-label label.sk-toggleable__label,\n",
              "#sk-container-id-1 div.sk-label label {\n",
              "  /* The background is the default theme color */\n",
              "  color: var(--sklearn-color-text-on-default-background);\n",
              "}\n",
              "\n",
              "/* On hover, darken the color of the background */\n",
              "#sk-container-id-1 div.sk-label:hover label.sk-toggleable__label {\n",
              "  color: var(--sklearn-color-text);\n",
              "  background-color: var(--sklearn-color-unfitted-level-2);\n",
              "}\n",
              "\n",
              "/* Label box, darken color on hover, fitted */\n",
              "#sk-container-id-1 div.sk-label.fitted:hover label.sk-toggleable__label.fitted {\n",
              "  color: var(--sklearn-color-text);\n",
              "  background-color: var(--sklearn-color-fitted-level-2);\n",
              "}\n",
              "\n",
              "/* Estimator label */\n",
              "\n",
              "#sk-container-id-1 div.sk-label label {\n",
              "  font-family: monospace;\n",
              "  font-weight: bold;\n",
              "  display: inline-block;\n",
              "  line-height: 1.2em;\n",
              "}\n",
              "\n",
              "#sk-container-id-1 div.sk-label-container {\n",
              "  text-align: center;\n",
              "}\n",
              "\n",
              "/* Estimator-specific */\n",
              "#sk-container-id-1 div.sk-estimator {\n",
              "  font-family: monospace;\n",
              "  border: 1px dotted var(--sklearn-color-border-box);\n",
              "  border-radius: 0.25em;\n",
              "  box-sizing: border-box;\n",
              "  margin-bottom: 0.5em;\n",
              "  /* unfitted */\n",
              "  background-color: var(--sklearn-color-unfitted-level-0);\n",
              "}\n",
              "\n",
              "#sk-container-id-1 div.sk-estimator.fitted {\n",
              "  /* fitted */\n",
              "  background-color: var(--sklearn-color-fitted-level-0);\n",
              "}\n",
              "\n",
              "/* on hover */\n",
              "#sk-container-id-1 div.sk-estimator:hover {\n",
              "  /* unfitted */\n",
              "  background-color: var(--sklearn-color-unfitted-level-2);\n",
              "}\n",
              "\n",
              "#sk-container-id-1 div.sk-estimator.fitted:hover {\n",
              "  /* fitted */\n",
              "  background-color: var(--sklearn-color-fitted-level-2);\n",
              "}\n",
              "\n",
              "/* Specification for estimator info (e.g. \"i\" and \"?\") */\n",
              "\n",
              "/* Common style for \"i\" and \"?\" */\n",
              "\n",
              ".sk-estimator-doc-link,\n",
              "a:link.sk-estimator-doc-link,\n",
              "a:visited.sk-estimator-doc-link {\n",
              "  float: right;\n",
              "  font-size: smaller;\n",
              "  line-height: 1em;\n",
              "  font-family: monospace;\n",
              "  background-color: var(--sklearn-color-background);\n",
              "  border-radius: 1em;\n",
              "  height: 1em;\n",
              "  width: 1em;\n",
              "  text-decoration: none !important;\n",
              "  margin-left: 0.5em;\n",
              "  text-align: center;\n",
              "  /* unfitted */\n",
              "  border: var(--sklearn-color-unfitted-level-1) 1pt solid;\n",
              "  color: var(--sklearn-color-unfitted-level-1);\n",
              "}\n",
              "\n",
              ".sk-estimator-doc-link.fitted,\n",
              "a:link.sk-estimator-doc-link.fitted,\n",
              "a:visited.sk-estimator-doc-link.fitted {\n",
              "  /* fitted */\n",
              "  border: var(--sklearn-color-fitted-level-1) 1pt solid;\n",
              "  color: var(--sklearn-color-fitted-level-1);\n",
              "}\n",
              "\n",
              "/* On hover */\n",
              "div.sk-estimator:hover .sk-estimator-doc-link:hover,\n",
              ".sk-estimator-doc-link:hover,\n",
              "div.sk-label-container:hover .sk-estimator-doc-link:hover,\n",
              ".sk-estimator-doc-link:hover {\n",
              "  /* unfitted */\n",
              "  background-color: var(--sklearn-color-unfitted-level-3);\n",
              "  color: var(--sklearn-color-background);\n",
              "  text-decoration: none;\n",
              "}\n",
              "\n",
              "div.sk-estimator.fitted:hover .sk-estimator-doc-link.fitted:hover,\n",
              ".sk-estimator-doc-link.fitted:hover,\n",
              "div.sk-label-container:hover .sk-estimator-doc-link.fitted:hover,\n",
              ".sk-estimator-doc-link.fitted:hover {\n",
              "  /* fitted */\n",
              "  background-color: var(--sklearn-color-fitted-level-3);\n",
              "  color: var(--sklearn-color-background);\n",
              "  text-decoration: none;\n",
              "}\n",
              "\n",
              "/* Span, style for the box shown on hovering the info icon */\n",
              ".sk-estimator-doc-link span {\n",
              "  display: none;\n",
              "  z-index: 9999;\n",
              "  position: relative;\n",
              "  font-weight: normal;\n",
              "  right: .2ex;\n",
              "  padding: .5ex;\n",
              "  margin: .5ex;\n",
              "  width: min-content;\n",
              "  min-width: 20ex;\n",
              "  max-width: 50ex;\n",
              "  color: var(--sklearn-color-text);\n",
              "  box-shadow: 2pt 2pt 4pt #999;\n",
              "  /* unfitted */\n",
              "  background: var(--sklearn-color-unfitted-level-0);\n",
              "  border: .5pt solid var(--sklearn-color-unfitted-level-3);\n",
              "}\n",
              "\n",
              ".sk-estimator-doc-link.fitted span {\n",
              "  /* fitted */\n",
              "  background: var(--sklearn-color-fitted-level-0);\n",
              "  border: var(--sklearn-color-fitted-level-3);\n",
              "}\n",
              "\n",
              ".sk-estimator-doc-link:hover span {\n",
              "  display: block;\n",
              "}\n",
              "\n",
              "/* \"?\"-specific style due to the `<a>` HTML tag */\n",
              "\n",
              "#sk-container-id-1 a.estimator_doc_link {\n",
              "  float: right;\n",
              "  font-size: 1rem;\n",
              "  line-height: 1em;\n",
              "  font-family: monospace;\n",
              "  background-color: var(--sklearn-color-background);\n",
              "  border-radius: 1rem;\n",
              "  height: 1rem;\n",
              "  width: 1rem;\n",
              "  text-decoration: none;\n",
              "  /* unfitted */\n",
              "  color: var(--sklearn-color-unfitted-level-1);\n",
              "  border: var(--sklearn-color-unfitted-level-1) 1pt solid;\n",
              "}\n",
              "\n",
              "#sk-container-id-1 a.estimator_doc_link.fitted {\n",
              "  /* fitted */\n",
              "  border: var(--sklearn-color-fitted-level-1) 1pt solid;\n",
              "  color: var(--sklearn-color-fitted-level-1);\n",
              "}\n",
              "\n",
              "/* On hover */\n",
              "#sk-container-id-1 a.estimator_doc_link:hover {\n",
              "  /* unfitted */\n",
              "  background-color: var(--sklearn-color-unfitted-level-3);\n",
              "  color: var(--sklearn-color-background);\n",
              "  text-decoration: none;\n",
              "}\n",
              "\n",
              "#sk-container-id-1 a.estimator_doc_link.fitted:hover {\n",
              "  /* fitted */\n",
              "  background-color: var(--sklearn-color-fitted-level-3);\n",
              "}\n",
              "</style><div id=\"sk-container-id-1\" class=\"sk-top-container\"><div class=\"sk-text-repr-fallback\"><pre>RandomForestClassifier(max_depth=7, min_samples_leaf=5, n_estimators=200,\n",
              "                       random_state=42)</pre><b>In a Jupyter environment, please rerun this cell to show the HTML representation or trust the notebook. <br />On GitHub, the HTML representation is unable to render, please try loading this page with nbviewer.org.</b></div><div class=\"sk-container\" hidden><div class=\"sk-item\"><div class=\"sk-estimator fitted sk-toggleable\"><input class=\"sk-toggleable__control sk-hidden--visually\" id=\"sk-estimator-id-1\" type=\"checkbox\" checked><label for=\"sk-estimator-id-1\" class=\"sk-toggleable__label fitted sk-toggleable__label-arrow\"><div><div>RandomForestClassifier</div></div><div><a class=\"sk-estimator-doc-link fitted\" rel=\"noreferrer\" target=\"_blank\" href=\"https://scikit-learn.org/1.6/modules/generated/sklearn.ensemble.RandomForestClassifier.html\">?<span>Documentation for RandomForestClassifier</span></a><span class=\"sk-estimator-doc-link fitted\">i<span>Fitted</span></span></div></label><div class=\"sk-toggleable__content fitted\"><pre>RandomForestClassifier(max_depth=7, min_samples_leaf=5, n_estimators=200,\n",
              "                       random_state=42)</pre></div> </div></div></div></div>"
            ],
            "text/plain": [
              "RandomForestClassifier(max_depth=7, min_samples_leaf=5, n_estimators=200,\n",
              "                       random_state=42)"
            ]
          },
          "execution_count": 24,
          "metadata": {},
          "output_type": "execute_result"
        }
      ],
      "source": [
        "# We realized that the model with max_deep = 7 is the best\n",
        "# Let's fit it on all train\n",
        "\n",
        "rf_7.fit(X_train, y_train)"
      ]
    },
    {
      "cell_type": "code",
      "execution_count": 25,
      "metadata": {
        "id": "569Z1bCVDvkG"
      },
      "outputs": [
        {
          "name": "stdout",
          "output_type": "stream",
          "text": [
            "              precision    recall  f1-score   support\n",
            "\n",
            "       False       0.91      0.98      0.94      2084\n",
            "        True       0.80      0.49      0.61       382\n",
            "\n",
            "    accuracy                           0.90      2466\n",
            "   macro avg       0.86      0.74      0.78      2466\n",
            "weighted avg       0.90      0.90      0.89      2466\n",
            "\n"
          ]
        }
      ],
      "source": [
        "# And predict test with full report of all metrics\n",
        "y_test_pred = rf_7.predict(X_test)\n",
        "print(metrics.classification_report(y_test, y_test_pred))"
      ]
    },
    {
      "cell_type": "markdown",
      "metadata": {
        "id": "PTDFBiTJD260"
      },
      "source": [
        "> - F1-score для тех, кто завершил сессию без покупки товара, равен 0.94\n",
        "> - F1-score для тех, кто завершил сессию купив товар, равен 0.61"
      ]
    },
    {
      "cell_type": "markdown",
      "metadata": {
        "id": "sDn8OyohD_Hd"
      },
      "source": [
        "17. Напишите вывод по полученным значениям"
      ]
    },
    {
      "cell_type": "markdown",
      "metadata": {
        "id": "wmTUx8vrEFtQ"
      },
      "source": [
        "> F1 метрика, в нашем случае с большим дисбалансом классов, дает более правдоподобную картину, чем accuracy.\n",
        ">\n",
        "> Так, можно сделать вывод о том, что модель значительно лучше предсказывает клиентов, которые завершили сессию без покупки товара, что может быть обусловлено бОльшим количеством данных по этому классу.\n",
        ">\n",
        "> При этом точность предсказания высока для обоих классов.\n",
        "> \n",
        "> На ряду с тем, модель хуже всего определяет покупателей, совершивших покупку относительно полноты."
      ]
    },
    {
      "cell_type": "markdown",
      "metadata": {
        "id": "IxWQFvfkEGr2"
      },
      "source": [
        "18. Попробуем повысить качество распознавания посетителей, совершивших покупку. Используем метод подбора порога вероятности с помощью PR-кривой.\n",
        "\n",
        "Порог вероятности будем подбирать с помощью кросс-валидации.\n",
        "\n",
        "Сделайте предсказание вероятностей принадлежности к пользователям, которые совершат покупку, на кросс-валидации на пяти фолдах. Используйте метод cross_val_predict().\n",
        "\n",
        "Для кросс-валидации используйте случайный лес с подобранной в прошлых заданиях оптимальной максимальной глубиной деревьев, набор данных (параметры X, y) — тренировочная выборка (X_train, y_train).\n",
        "\n",
        "Постройте PR-кривую и отметьте на ней точку, в которой наблюдается максимум метрики  для посетителей, которые совершат покупку. Определите порог вероятности, соответствующий этой точке."
      ]
    },
    {
      "cell_type": "code",
      "execution_count": 26,
      "metadata": {},
      "outputs": [
        {
          "data": {
            "text/plain": [
              "array([0.32978208, 0.04004348, 0.02642277, ..., 0.0115439 , 0.5210891 ,\n",
              "       0.67714724])"
            ]
          },
          "execution_count": 26,
          "metadata": {},
          "output_type": "execute_result"
        }
      ],
      "source": [
        "# Probability for class 1\n",
        "y_pred_proba = model_selection.cross_val_predict(\n",
        "    rf_7, X_train, y_train, cv=5, method='predict_proba'\n",
        ")[:, 1]\n",
        "\n",
        "y_pred_proba"
      ]
    },
    {
      "cell_type": "code",
      "execution_count": 27,
      "metadata": {},
      "outputs": [
        {
          "name": "stderr",
          "output_type": "stream",
          "text": [
            "/Users/polina/Desktop/SKMaga/.g_venv/lib/python3.13/site-packages/sklearn/metrics/_classification.py:1565: UndefinedMetricWarning: Precision is ill-defined and being set to 0.0 due to no predicted samples. Use `zero_division` parameter to control this behavior.\n",
            "  _warn_prf(average, modifier, f\"{metric.capitalize()} is\", len(result))\n",
            "/Users/polina/Desktop/SKMaga/.g_venv/lib/python3.13/site-packages/sklearn/metrics/_classification.py:1565: UndefinedMetricWarning: Precision is ill-defined and being set to 0.0 due to no predicted samples. Use `zero_division` parameter to control this behavior.\n",
            "  _warn_prf(average, modifier, f\"{metric.capitalize()} is\", len(result))\n",
            "/Users/polina/Desktop/SKMaga/.g_venv/lib/python3.13/site-packages/sklearn/metrics/_classification.py:1565: UndefinedMetricWarning: Precision is ill-defined and being set to 0.0 due to no predicted samples. Use `zero_division` parameter to control this behavior.\n",
            "  _warn_prf(average, modifier, f\"{metric.capitalize()} is\", len(result))\n"
          ]
        }
      ],
      "source": [
        "# Calculate thresholds\n",
        "\n",
        "y_train_pred_proba = pd.Series(y_pred_proba)\n",
        "recall_scores = []\n",
        "precision_scores = []\n",
        "f1_scores = []\n",
        "\n",
        "thresholds = np.arange(0.1, 1, 0.05)\n",
        "\n",
        "for threshold in thresholds:\n",
        "    y_train_pred = y_train_pred_proba.apply(\n",
        "        lambda pred: (pred>threshold).astype(int)\n",
        "    )\n",
        "\n",
        "    recall_scores.append(metrics.recall_score(y_train, y_train_pred))\n",
        "    precision_scores.append(metrics.precision_score(y_train, y_train_pred))\n",
        "    f1_scores.append(metrics.f1_score(y_train, y_train_pred))\n"
      ]
    },
    {
      "cell_type": "code",
      "execution_count": 28,
      "metadata": {},
      "outputs": [
        {
          "data": {
            "text/html": [
              "<div>\n",
              "<style scoped>\n",
              "    .dataframe tbody tr th:only-of-type {\n",
              "        vertical-align: middle;\n",
              "    }\n",
              "\n",
              "    .dataframe tbody tr th {\n",
              "        vertical-align: top;\n",
              "    }\n",
              "\n",
              "    .dataframe thead th {\n",
              "        text-align: right;\n",
              "    }\n",
              "</style>\n",
              "<table border=\"1\" class=\"dataframe\">\n",
              "  <thead>\n",
              "    <tr style=\"text-align: right;\">\n",
              "      <th></th>\n",
              "      <th>diffs</th>\n",
              "      <th>thresholds</th>\n",
              "      <th>recall_scores</th>\n",
              "      <th>precision_scores</th>\n",
              "      <th>f1_scores</th>\n",
              "    </tr>\n",
              "  </thead>\n",
              "  <tbody>\n",
              "    <tr>\n",
              "      <th>3</th>\n",
              "      <td>0.037199</td>\n",
              "      <td>0.40</td>\n",
              "      <td>0.673657</td>\n",
              "      <td>0.692256</td>\n",
              "      <td>0.682830</td>\n",
              "    </tr>\n",
              "    <tr>\n",
              "      <th>4</th>\n",
              "      <td>0.164973</td>\n",
              "      <td>0.35</td>\n",
              "      <td>0.731324</td>\n",
              "      <td>0.648837</td>\n",
              "      <td>0.687616</td>\n",
              "    </tr>\n",
              "    <tr>\n",
              "      <th>5</th>\n",
              "      <td>0.256314</td>\n",
              "      <td>0.45</td>\n",
              "      <td>0.601573</td>\n",
              "      <td>0.729730</td>\n",
              "      <td>0.659483</td>\n",
              "    </tr>\n",
              "    <tr>\n",
              "      <th>6</th>\n",
              "      <td>0.298988</td>\n",
              "      <td>0.30</td>\n",
              "      <td>0.766055</td>\n",
              "      <td>0.616561</td>\n",
              "      <td>0.683226</td>\n",
              "    </tr>\n",
              "    <tr>\n",
              "      <th>7</th>\n",
              "      <td>0.429801</td>\n",
              "      <td>0.25</td>\n",
              "      <td>0.804718</td>\n",
              "      <td>0.589817</td>\n",
              "      <td>0.680710</td>\n",
              "    </tr>\n",
              "  </tbody>\n",
              "</table>\n",
              "</div>"
            ],
            "text/plain": [
              "      diffs  thresholds  recall_scores  precision_scores  f1_scores\n",
              "3  0.037199        0.40       0.673657          0.692256   0.682830\n",
              "4  0.164973        0.35       0.731324          0.648837   0.687616\n",
              "5  0.256314        0.45       0.601573          0.729730   0.659483\n",
              "6  0.298988        0.30       0.766055          0.616561   0.683226\n",
              "7  0.429801        0.25       0.804718          0.589817   0.680710"
            ]
          },
          "execution_count": 28,
          "metadata": {},
          "output_type": "execute_result"
        }
      ],
      "source": [
        "# To get best threshold as the balances the F1, recall and precision\n",
        "\n",
        "\n",
        "np_recall_scores = np.array(recall_scores)\n",
        "np_precision_scores = np.array(precision_scores)\n",
        "np_f1_scores = np.array(f1_scores)\n",
        "\n",
        "diffs = \\\n",
        "    np.abs(np_recall_scores - np_precision_scores) \\\n",
        "    + np.abs(np_recall_scores - np_f1_scores) \\\n",
        "    + np.abs(np_precision_scores - np_f1_scores)\n",
        "\n",
        "sorted_diffs_idxs = np.argsort(diffs)\n",
        "\n",
        "scores_data = pd.DataFrame({\n",
        "    'diffs': diffs[sorted_diffs_idxs],\n",
        "    'thresholds': thresholds[sorted_diffs_idxs],\n",
        "    'recall_scores': np_recall_scores[sorted_diffs_idxs],\n",
        "    'precision_scores': np_precision_scores[sorted_diffs_idxs],\n",
        "    'f1_scores': np_f1_scores[sorted_diffs_idxs]\n",
        "})\n",
        "\n",
        "\n",
        "# Sort by minimum diff and max f1_score\n",
        "scores_data = scores_data.sort_values(\n",
        "    by=['diffs', 'f1_scores'], ascending=[True, False]\n",
        ")\n",
        "\n",
        "# Drop f1_score = 0\n",
        "scores_data = scores_data[scores_data.f1_scores > 0]\n",
        "\n",
        "\n",
        "scores_data.head()"
      ]
    },
    {
      "cell_type": "code",
      "execution_count": 29,
      "metadata": {
        "id": "vGUr7TeVENoc"
      },
      "outputs": [
        {
          "data": {
            "text/plain": [
              "<matplotlib.legend.Legend at 0x11fbe2990>"
            ]
          },
          "execution_count": 29,
          "metadata": {},
          "output_type": "execute_result"
        },
        {
          "data": {
            "image/png": "[encoded data removed]",
            "text/plain": [
              "<Figure size 800x550 with 1 Axes>"
            ]
          },
          "metadata": {},
          "output_type": "display_data"
        }
      ],
      "source": [
        "# Get PR visualizations\n",
        "\n",
        "plt.plot(thresholds, recall_scores, label='Recall')\n",
        "plt.plot(thresholds, precision_scores, label='Precision')\n",
        "plt.plot(thresholds, f1_scores, label='F1-score')\n",
        "\n",
        "plt.title('Recall/Precision dependence on the threshold')\n",
        "plt.xlabel('Probability threshold')\n",
        "plt.ylabel('Score')\n",
        "plt.legend(loc='best')"
      ]
    },
    {
      "cell_type": "markdown",
      "metadata": {},
      "source": [
        "> Из таблицы и графика видно, что наименьшая разница в метриках при наибольших их значениях достигается при threshold равном 0.35"
      ]
    },
    {
      "cell_type": "markdown",
      "metadata": {
        "id": "9l8B5mh1EOW8"
      },
      "source": [
        "19. Сделайте предсказание классов объекта с определённым в предыдущем задании порогом вероятности. Выведите отчёт о метриках классификации.\n",
        "Рассчитайте значение метрики accuracy"
      ]
    },
    {
      "cell_type": "code",
      "execution_count": 30,
      "metadata": {
        "id": "wKgFOzPxETRo"
      },
      "outputs": [],
      "source": [
        "threshold_opt = 0.35\n",
        "\n",
        "y_test_pred_proba = rf_7.predict_proba(X_test)[:, 1]\n",
        "\n",
        "y_test_pred_opt = (y_test_pred_proba >= threshold_opt).astype(int)"
      ]
    },
    {
      "cell_type": "code",
      "execution_count": 31,
      "metadata": {},
      "outputs": [
        {
          "name": "stdout",
          "output_type": "stream",
          "text": [
            "PREDICTION WITH DEFAULT THRESHOLD:\n",
            "              precision    recall  f1-score   support\n",
            "\n",
            "       False       0.91      0.98      0.94      2084\n",
            "        True       0.80      0.49      0.61       382\n",
            "\n",
            "    accuracy                           0.90      2466\n",
            "   macro avg       0.86      0.74      0.78      2466\n",
            "weighted avg       0.90      0.90      0.89      2466\n",
            "\n",
            "PREDICTION WITH OPTIMIZED THRESHOLD:\n",
            "              precision    recall  f1-score   support\n",
            "\n",
            "       False       0.94      0.93      0.94      2084\n",
            "        True       0.65      0.70      0.67       382\n",
            "\n",
            "    accuracy                           0.90      2466\n",
            "   macro avg       0.80      0.81      0.81      2466\n",
            "weighted avg       0.90      0.90      0.90      2466\n",
            "\n"
          ]
        }
      ],
      "source": [
        "print('PREDICTION WITH DEFAULT THRESHOLD:')\n",
        "print(metrics.classification_report(y_test, y_test_pred))\n",
        "\n",
        "print('PREDICTION WITH OPTIMIZED THRESHOLD:')\n",
        "print(metrics.classification_report(y_test, y_test_pred_opt))"
      ]
    },
    {
      "cell_type": "code",
      "execution_count": 32,
      "metadata": {},
      "outputs": [
        {
          "name": "stdout",
          "output_type": "stream",
          "text": [
            "For 1 fold:\n",
            "\t-Train: 0.693579766536965\n",
            "\t-Test: 0.6301369863013698\n",
            "For 2 fold:\n",
            "\t-Train: 0.682806324110672\n",
            "\t-Test: 0.6549707602339181\n",
            "For 3 fold:\n",
            "\t-Train: 0.6918177364037237\n",
            "\t-Test: 0.6265560165975104\n",
            "For 4 fold:\n",
            "\t-Train: 0.7091787439613526\n",
            "\t-Test: 0.5980582524271845\n",
            "For 5 fold:\n",
            "\t-Train: 0.7066155321188878\n",
            "\t-Test: 0.6653992395437263\n"
          ]
        },
        {
          "data": {
            "text/plain": [
              "(np.float64(0.6967996206263203), np.float64(0.6350242510207418))"
            ]
          },
          "execution_count": 32,
          "metadata": {},
          "output_type": "execute_result"
        }
      ],
      "source": [
        "# Control overfit check on cross validation\n",
        "\n",
        "CV.cross_validate(X_train, y_train, rf_7)"
      ]
    },
    {
      "cell_type": "markdown",
      "metadata": {},
      "source": [
        "> Можно заключить, что переобучение в финальной моделе не наблюдается"
      ]
    },
    {
      "cell_type": "markdown",
      "metadata": {
        "id": "VvCxDjiJEdsR"
      },
      "source": [
        "20. Рассчитайте значение метрики F1 для посетителей, завершивших сессию без покупки товара и значение метрики F1 для посетителей, купивших товар во время сессии? После расчета напишите свои выводы на основе метрик"
      ]
    },
    {
      "cell_type": "markdown",
      "metadata": {
        "id": "WQx6IxerEoa1"
      },
      "source": [
        "> После установления оптимального threshold порога значение метрик для посетителей в целом выровнилось как для купивших, так для некупивших товары.\n",
        "> \n",
        "> Можно также заметить, что f1 метрика для посетителей, купивших товары, выросла на 6% за счет болеее точного предсказания полноты оптимизационной модели: recall равен 70% против 49% на дефолтном threshold.\n",
        "> Такое значительно увеличение во много продиктовано тем, что оптимизационная модель более сбалансирована в части f1 меры.\n",
        ">\n",
        "> Таким образом, данное решение стоит принять в том случае, если мы готовы существенно потерять в точности в угоду более полного определения покупателей, совершивших покупку. На мой взгляд, здесь это может быть оправдано повышением f1 метрики, отражающей степень баланса между precision и recall"
      ]
    }
  ],
  "metadata": {
    "colab": {
      "provenance": []
    },
    "kernelspec": {
      "display_name": ".g_venv",
      "language": "python",
      "name": "python3"
    },
    "language_info": {
      "codemirror_mode": {
        "name": "ipython",
        "version": 3
      },
      "file_extension": ".py",
      "mimetype": "text/x-python",
      "name": "python",
      "nbconvert_exporter": "python",
      "pygments_lexer": "ipython3",
      "version": "3.13.1"
    }
  },
  "nbformat": 4,
  "nbformat_minor": 0
}
