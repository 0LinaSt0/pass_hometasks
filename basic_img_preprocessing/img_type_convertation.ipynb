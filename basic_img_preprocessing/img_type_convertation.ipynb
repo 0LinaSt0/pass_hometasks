{
 "cells": [
  {
   "cell_type": "markdown",
   "metadata": {},
   "source": [
    "# Конвертация типов"
   ]
  },
  {
   "cell_type": "code",
   "execution_count": 1,
   "metadata": {},
   "outputs": [],
   "source": [
    "import cv2\n",
    "import convertapi\n",
    "from PIL import Image"
   ]
  },
  {
   "cell_type": "code",
   "execution_count": 2,
   "metadata": {},
   "outputs": [],
   "source": [
    "import struct\n",
    "import zlib\n",
    "\n",
    "from typing import Callable"
   ]
  },
  {
   "cell_type": "code",
   "execution_count": 3,
   "metadata": {},
   "outputs": [],
   "source": [
    "IMG_PATH = './materials/imgs/blackbuck.bmp'\n",
    "\n",
    "RESULTS_PATH = './tmp_results/'"
   ]
  },
  {
   "cell_type": "markdown",
   "metadata": {},
   "source": [
    "## Простое задание\n",
    "1. Конвертировать файл bmp в png любым способом, а также написать плюсы и минусы используемого метода/библиотеки.\n",
    "1. Поменять чётные строки файла bmp на синий цвет, считав файл как массив данных побитно"
   ]
  },
  {
   "cell_type": "markdown",
   "metadata": {},
   "source": [
    "*Некоторые сопсобы конвертирования изображения:*\n",
    "\n",
    "\n",
    "| Method                    | Workflow            | +            | -            |\n",
    "|---------------------------|----------------|--------------|--------------|\n",
    "| OpenCV2                   | Преобразует в массив NumPy, представляющий изображение, которое можно обрабатывать далее  | - Самая популярна и доступна<br>- Быстрая и эффективная<br>- Возможность обработки изображения перед сохранением | - Возможно много лишнего фукнционала под эту конкретную задачу |\n",
    "| Pillow                    | Pillow считывает в растровом виде и хранит в личном типе данных со своими метаданными     | - Также довольно популярна | - Может работать медленнее |\n",
    "| ConvertAPI                |                                                                                           | - Обработка изображения на стороне сервиса | - Необходима регистрация<br>- Зависимость от работоспособности сервера и интернета<br>- Расширенный функционал только платно |\n",
    "| Личный побитный конвертер |    Данные представленны в виде списка bytearray                                           | - Полное понимание процесса \"под капотоп\"<br>- Респект и уважение :) | - Риск напортачить |"
   ]
  },
  {
   "cell_type": "markdown",
   "metadata": {},
   "source": [
    "Далее представлен код каждого из методов + замена черного цвета на синий.\n",
    "\n",
    "Результаты расположены в директории tmp_results"
   ]
  },
  {
   "cell_type": "code",
   "execution_count": 4,
   "metadata": {},
   "outputs": [
    {
     "data": {
      "text/plain": [
       "True"
      ]
     },
     "execution_count": 4,
     "metadata": {},
     "output_type": "execute_result"
    }
   ],
   "source": [
    "# OpenCV2\n",
    "\n",
    "img = cv2.imread(IMG_PATH)\n",
    "\n",
    "cv2.imwrite(RESULTS_PATH + 'cv2_blackbuck.png', img)"
   ]
  },
  {
   "cell_type": "code",
   "execution_count": 5,
   "metadata": {},
   "outputs": [],
   "source": [
    "# Pillow\n",
    "\n",
    "img = Image.open(IMG_PATH)\n",
    "\n",
    "img.save(RESULTS_PATH + 'pil_blackbuck.png')"
   ]
  },
  {
   "cell_type": "code",
   "execution_count": null,
   "metadata": {},
   "outputs": [],
   "source": [
    "# ConvertAPI\n",
    "\n",
    "convertapi.api_credentials = 'your-api-secret-or-token' # Pass your token after registration\n",
    "\n",
    "result = convertapi.convert('png', {'File': IMG_PATH})\n",
    "result.file.save(RESULTS_PATH + 'api_blackbuck.png')"
   ]
  },
  {
   "cell_type": "markdown",
   "metadata": {},
   "source": [
    "**Replace black to blue in every second picture's row**"
   ]
  },
  {
   "cell_type": "code",
   "execution_count": 6,
   "metadata": {},
   "outputs": [],
   "source": [
    "def read_bmp(img_path: str):\n",
    "    '''Read file bit by bit and return rows'''\n",
    "\n",
    "    with open(img_path, 'rb') as f:\n",
    "        img_head = f.read(54)\n",
    "\n",
    "        # Extract info about img size in little-endian format: \n",
    "        # info about size is started from 18 + 2 int (4 bytes) = 18+2*4 = before 2\n",
    "        width, height = struct.unpack('<II', img_head[18:26])\n",
    "\n",
    "        # Every row should be a multiple of 4 bytes. So, we add 3 bytes\n",
    "        # and use bitwise operations to round down to the nearest multiple of 4\n",
    "        row_size = (width * 3 + 3) & (~3)\n",
    "        print(f'Width: {width}, Height: {height}, Row_size: {row_size}')\n",
    "\n",
    "        pixels_data = []\n",
    "\n",
    "        for _ in range(height):\n",
    "            row = f.read(row_size)\n",
    "            pixels_data.append(row)\n",
    "\n",
    "\n",
    "    img_metadata = {\n",
    "        'header': img_head,\n",
    "        'width': width,\n",
    "        'height': height,\n",
    "        'row_size': row_size,\n",
    "        'pixels_data': pixels_data\n",
    "    }\n",
    "\n",
    "    return img_metadata"
   ]
  },
  {
   "cell_type": "code",
   "execution_count": 7,
   "metadata": {},
   "outputs": [],
   "source": [
    "def change_color(\n",
    "    pixels_data: list, replace_colors: tuple, row_step: int=2\n",
    "):\n",
    "    ''' \n",
    "        replace_colors_dict: tuple(tuple)\n",
    "                (old_color_value_in_bgr, new_color_value_in_bgr)\n",
    "        \n",
    "        row_step: int\n",
    "                1 - replace in every row\n",
    "                2 - replace in every second row and etc.\n",
    "    '''\n",
    "    changes_pixels_data = pixels_data.copy()\n",
    "\n",
    "    for i in range(0, len(changes_pixels_data), row_step):\n",
    "        row = bytearray(changes_pixels_data[i])\n",
    "\n",
    "        for j in range(0, len(row), 3):\n",
    "            color_bgr = (row[j], row[j+1], row[j+2])\n",
    "            if color_bgr == replace_colors[0]:\n",
    "                row[j], row[j+1], row[j+2] = replace_colors[1]\n",
    "\n",
    "        changes_pixels_data[i] = bytes(row)\n",
    "\n",
    "    return changes_pixels_data"
   ]
  },
  {
   "cell_type": "code",
   "execution_count": 8,
   "metadata": {},
   "outputs": [
    {
     "name": "stdout",
     "output_type": "stream",
     "text": [
      "Width: 512, Height: 512, Row_size: 1536\n",
      "Updated black color in img ./materials/imgs/blackbuck.bmp to ./tmp_results/custom_change_color_blackbuck.bmp\n"
     ]
    }
   ],
   "source": [
    "img_metadata = read_bmp(IMG_PATH)\n",
    "\n",
    "# BGR: black - (0,0,0), blue - (255, 0, 0)\n",
    "pixels_data = change_color(\n",
    "    img_metadata['pixels_data'], \n",
    "    replace_colors=((0, 0, 0), (255, 0, 0),),\n",
    "    # row_step=10\n",
    ")\n",
    "\n",
    "with open(img_result := RESULTS_PATH + 'custom_change_color_blackbuck.bmp', 'wb') as f:\n",
    "    f.write(img_metadata['header'])\n",
    "    for row in pixels_data:\n",
    "        f.write(row)\n",
    "\n",
    "print(f'Updated black color in img {IMG_PATH} to {img_result}')"
   ]
  },
  {
   "cell_type": "markdown",
   "metadata": {},
   "source": [
    "## Альтернативное задание\n",
    "1. Написать свой конвертер из png в bmp файл, используя только считывание файлов побитно через массивы"
   ]
  },
  {
   "cell_type": "code",
   "execution_count": 9,
   "metadata": {},
   "outputs": [],
   "source": [
    "class ConverterBmp2Png:\n",
    "\n",
    "    @classmethod\n",
    "    def __get_data_in_big_endian(self, data: str) -> bytes:\n",
    "        return struct.pack('>I', data)\n",
    "\n",
    "    @classmethod\n",
    "    def __get_chunk(self, chunk_data: bytearray, chunk_type: str) -> bytearray:\n",
    "\n",
    "        chunk = bytearray()\n",
    "        \n",
    "        # data_size\n",
    "        chunk.extend(\n",
    "            ConverterBmp2Png.__get_data_in_big_endian(len(chunk_data))\n",
    "        )\n",
    "        # chunk_type\n",
    "        chunk.extend(\n",
    "            chunk_type_byte := chunk_type.encode('utf-8')\n",
    "        )\n",
    "        # chunk_data\n",
    "        chunk.extend(chunk_data)\n",
    "        # CRC\n",
    "        chunk.extend(\n",
    "            ConverterBmp2Png.__get_data_in_big_endian(\n",
    "                zlib.crc32(chunk_type_byte + chunk_data)\n",
    "            )\n",
    "        )\n",
    "\n",
    "        return chunk\n",
    "\n",
    "\n",
    "    @classmethod\n",
    "    def __create_IHDR_chunk(self, width, height) -> bytearray:\n",
    "        indr_chunk = bytearray()\n",
    "\n",
    "        # width\n",
    "        indr_chunk.extend(\n",
    "            ConverterBmp2Png.__get_data_in_big_endian(width)\n",
    "        )\n",
    "        # height\n",
    "        indr_chunk.extend(\n",
    "            ConverterBmp2Png.__get_data_in_big_endian(height)\n",
    "        )\n",
    "        # bit depth\n",
    "        indr_chunk.append(8)\n",
    "        # RGB color type\n",
    "        indr_chunk.append(2)\n",
    "        # compression_method \n",
    "        indr_chunk.append(0)\n",
    "        # filter_method \n",
    "        indr_chunk.append(0)\n",
    "        # interlace_method\n",
    "        indr_chunk.append(0)\n",
    "        \n",
    "        return indr_chunk\n",
    "    \n",
    "\n",
    "    @classmethod\n",
    "    def __create_IDAT_chunk(self, bmp_pixel_data) -> bytearray:\n",
    "        idat_chunk = bytearray()\n",
    "\n",
    "        # PNG in botton-top\n",
    "        for row in reversed(bmp_pixel_data):\n",
    "            # None (0): No filtering is applied. The raw pixel data is sent directly to compression.\n",
    "            idat_chunk.append(0)\n",
    "            for i in range(0, len(row), 3):\n",
    "                # BGR to RGB\n",
    "                idat_chunk.extend([row[i+2], row[i+1], row[i]])\n",
    "        \n",
    "        idat_chunk = zlib.compress(idat_chunk)\n",
    "        \n",
    "        return idat_chunk\n",
    "    \n",
    "    \n",
    "    @classmethod\n",
    "    def __get_png_data(self, img_bmp_metadata: dict) -> bytearray:\n",
    "        png_header = b'\\x89' + b'PNG' + b'\\r\\n' + b'\\x1a' + b'\\n'\n",
    "\n",
    "        ihdr_chunk = ConverterBmp2Png.__create_IHDR_chunk(\n",
    "            img_bmp_metadata['width'], img_bmp_metadata['height']\n",
    "        )\n",
    "\n",
    "        idat_chunk = ConverterBmp2Png.__create_IDAT_chunk(\n",
    "            img_bmp_metadata['pixels_data']\n",
    "        )\n",
    "\n",
    "        all_chunks = \\\n",
    "            png_header + \\\n",
    "            ConverterBmp2Png.__get_chunk(ihdr_chunk, 'IHDR') + \\\n",
    "            ConverterBmp2Png.__get_chunk(idat_chunk, 'IDAT') + \\\n",
    "            ConverterBmp2Png.__get_chunk(b'', 'IEND')\n",
    "\n",
    "        return all_chunks\n",
    "\n",
    "\n",
    "    @staticmethod\n",
    "    def lets_convert(\n",
    "        bmp_img_path: str=IMG_PATH,\n",
    "        png_img_path: str=RESULTS_PATH+'custom_converted_blackbuck.png',\n",
    "        fnc_get_bmp_metadata: Callable[[str], dict]=read_bmp,\n",
    "    ) -> None:\n",
    "        img_bmp_metadata = fnc_get_bmp_metadata(bmp_img_path)\n",
    "\n",
    "        png_data = ConverterBmp2Png.__get_png_data(img_bmp_metadata)\n",
    "\n",
    "        with open(png_img_path, 'wb') as f:\n",
    "            f.write(png_data)\n",
    "\n",
    "        print(f'Image {bmp_img_path} success saved to {png_img_path}')"
   ]
  },
  {
   "cell_type": "code",
   "execution_count": 10,
   "metadata": {},
   "outputs": [
    {
     "name": "stdout",
     "output_type": "stream",
     "text": [
      "Width: 512, Height: 512, Row_size: 1536\n",
      "Image ./materials/imgs/blackbuck.bmp success saved to ./tmp_results/custom_converted_blackbuck.png\n"
     ]
    }
   ],
   "source": [
    "ConverterBmp2Png.lets_convert()"
   ]
  }
 ],
 "metadata": {
  "kernelspec": {
   "display_name": ".venv",
   "language": "python",
   "name": "python3"
  },
  "language_info": {
   "codemirror_mode": {
    "name": "ipython",
    "version": 3
   },
   "file_extension": ".py",
   "mimetype": "text/x-python",
   "name": "python",
   "nbconvert_exporter": "python",
   "pygments_lexer": "ipython3",
   "version": "3.11.7"
  }
 },
 "nbformat": 4,
 "nbformat_minor": 2
}
